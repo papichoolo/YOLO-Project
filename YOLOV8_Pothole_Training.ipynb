{
  "cells": [
    {
      "cell_type": "markdown",
      "metadata": {
        "id": "view-in-github",
        "colab_type": "text"
      },
      "source": [
        "<a href=\"https://colab.research.google.com/github/papichoolo/YOLO-Project/blob/main/YOLOV8_Pothole_Training.ipynb\" target=\"_parent\"><img src=\"https://colab.research.google.com/assets/colab-badge.svg\" alt=\"Open In Colab\"/></a>"
      ]
    },
    {
      "cell_type": "code",
      "execution_count": null,
      "metadata": {
        "colab": {
          "base_uri": "https://localhost:8080/"
        },
        "id": "skqC8PdidaaQ",
        "outputId": "37401b98-fece-4c87-b636-95e3a71f4372"
      },
      "outputs": [
        {
          "name": "stdout",
          "output_type": "stream",
          "text": [
            "Go to the following link in your browser:\n",
            "\n",
            "    https://accounts.google.com/o/oauth2/auth?response_type=code&client_id=32555940559.apps.googleusercontent.com&redirect_uri=https%3A%2F%2Fsdk.cloud.google.com%2Fauthcode.html&scope=openid+https%3A%2F%2Fwww.googleapis.com%2Fauth%2Fuserinfo.email+https%3A%2F%2Fwww.googleapis.com%2Fauth%2Fcloud-platform+https%3A%2F%2Fwww.googleapis.com%2Fauth%2Fappengine.admin+https%3A%2F%2Fwww.googleapis.com%2Fauth%2Fsqlservice.login+https%3A%2F%2Fwww.googleapis.com%2Fauth%2Fcompute+https%3A%2F%2Fwww.googleapis.com%2Fauth%2Faccounts.reauth&state=TmdpFs9cwRIvf874pKSXJJLU0cMxMm&prompt=consent&access_type=offline&code_challenge=DMvFF0H6-IS8poGYvn5Ut7yt61ZYOQdaKvCWv5aRgK8&code_challenge_method=S256\n",
            "\n",
            "Enter authorization code: 4/0AbUR2VOJYvqBOguYfEri8SqDPlQOBTmIHez4C03grpdgOqnAleflBrMpmMRuOnURqH-0ww\n",
            "\n",
            "You are now logged in as [17pushpendrakush@gmail.com].\n",
            "Your current project is [None].  You can change this setting by running:\n",
            "  $ gcloud config set project PROJECT_ID\n"
          ]
        }
      ],
      "source": [
        "!gcloud auth login"
      ]
    },
    {
      "cell_type": "code",
      "execution_count": null,
      "metadata": {
        "colab": {
          "base_uri": "https://localhost:8080/"
        },
        "id": "5TCQU-4TaQD7",
        "outputId": "634ab946-9973-4026-8956-42e193741291"
      },
      "outputs": [
        {
          "output_type": "stream",
          "name": "stdout",
          "text": [
            "Cloning into 'yolov5'...\n",
            "remote: Enumerating objects: 15996, done.\u001b[K\n",
            "remote: Counting objects: 100% (165/165), done.\u001b[K\n",
            "remote: Compressing objects: 100% (96/96), done.\u001b[K\n",
            "remote: Total 15996 (delta 101), reused 111 (delta 69), pack-reused 15831\u001b[K\n",
            "Receiving objects: 100% (15996/15996), 14.64 MiB | 21.14 MiB/s, done.\n",
            "Resolving deltas: 100% (10974/10974), done.\n"
          ]
        }
      ],
      "source": [
        "!git clone https://github.com/ultralytics/yolov5"
      ]
    },
    {
      "cell_type": "code",
      "execution_count": null,
      "metadata": {
        "colab": {
          "base_uri": "https://localhost:8080/"
        },
        "id": "5WeCbjvxaU46",
        "outputId": "97486fac-8881-433f-8579-c88f3ca54178"
      },
      "outputs": [
        {
          "output_type": "stream",
          "name": "stdout",
          "text": [
            "/content/yolov5\n"
          ]
        }
      ],
      "source": [
        "%cd yolov5"
      ]
    },
    {
      "cell_type": "code",
      "execution_count": null,
      "metadata": {
        "id": "XKmRzKrCfliD",
        "colab": {
          "base_uri": "https://localhost:8080/"
        },
        "outputId": "e295c300-e247-4ad1-9fdd-2c328d53afe2"
      },
      "outputs": [
        {
          "output_type": "stream",
          "name": "stdout",
          "text": [
            "Looking in indexes: https://pypi.org/simple, https://us-python.pkg.dev/colab-wheels/public/simple/\n",
            "Collecting gitpython>=3.1.30 (from -r requirements.txt (line 5))\n",
            "  Downloading GitPython-3.1.31-py3-none-any.whl (184 kB)\n",
            "\u001b[2K     \u001b[90m━━━━━━━━━━━━━━━━━━━━━━━━━━━━━━━━━━━━━━━\u001b[0m \u001b[32m184.3/184.3 kB\u001b[0m \u001b[31m6.5 MB/s\u001b[0m eta \u001b[36m0:00:00\u001b[0m\n",
            "\u001b[?25hRequirement already satisfied: matplotlib>=3.3 in /usr/local/lib/python3.10/dist-packages (from -r requirements.txt (line 6)) (3.7.1)\n",
            "Requirement already satisfied: numpy>=1.18.5 in /usr/local/lib/python3.10/dist-packages (from -r requirements.txt (line 7)) (1.22.4)\n",
            "Requirement already satisfied: opencv-python>=4.1.1 in /usr/local/lib/python3.10/dist-packages (from -r requirements.txt (line 8)) (4.7.0.72)\n",
            "Requirement already satisfied: Pillow>=7.1.2 in /usr/local/lib/python3.10/dist-packages (from -r requirements.txt (line 9)) (8.4.0)\n",
            "Requirement already satisfied: psutil in /usr/local/lib/python3.10/dist-packages (from -r requirements.txt (line 10)) (5.9.5)\n",
            "Requirement already satisfied: PyYAML>=5.3.1 in /usr/local/lib/python3.10/dist-packages (from -r requirements.txt (line 11)) (6.0)\n",
            "Requirement already satisfied: requests>=2.23.0 in /usr/local/lib/python3.10/dist-packages (from -r requirements.txt (line 12)) (2.27.1)\n",
            "Requirement already satisfied: scipy>=1.4.1 in /usr/local/lib/python3.10/dist-packages (from -r requirements.txt (line 13)) (1.10.1)\n",
            "Collecting thop>=0.1.1 (from -r requirements.txt (line 14))\n",
            "  Downloading thop-0.1.1.post2209072238-py3-none-any.whl (15 kB)\n",
            "Requirement already satisfied: torch>=1.7.0 in /usr/local/lib/python3.10/dist-packages (from -r requirements.txt (line 15)) (2.0.1+cu118)\n",
            "Requirement already satisfied: torchvision>=0.8.1 in /usr/local/lib/python3.10/dist-packages (from -r requirements.txt (line 16)) (0.15.2+cu118)\n",
            "Requirement already satisfied: tqdm>=4.64.0 in /usr/local/lib/python3.10/dist-packages (from -r requirements.txt (line 17)) (4.65.0)\n",
            "Collecting ultralytics>=8.0.111 (from -r requirements.txt (line 18))\n",
            "  Downloading ultralytics-8.0.120-py3-none-any.whl (611 kB)\n",
            "\u001b[2K     \u001b[90m━━━━━━━━━━━━━━━━━━━━━━━━━━━━━━━━━━━━━━\u001b[0m \u001b[32m611.7/611.7 kB\u001b[0m \u001b[31m29.7 MB/s\u001b[0m eta \u001b[36m0:00:00\u001b[0m\n",
            "\u001b[?25hRequirement already satisfied: pandas>=1.1.4 in /usr/local/lib/python3.10/dist-packages (from -r requirements.txt (line 27)) (1.5.3)\n",
            "Requirement already satisfied: seaborn>=0.11.0 in /usr/local/lib/python3.10/dist-packages (from -r requirements.txt (line 28)) (0.12.2)\n",
            "Requirement already satisfied: setuptools>=65.5.1 in /usr/local/lib/python3.10/dist-packages (from -r requirements.txt (line 42)) (67.7.2)\n",
            "Collecting gitdb<5,>=4.0.1 (from gitpython>=3.1.30->-r requirements.txt (line 5))\n",
            "  Downloading gitdb-4.0.10-py3-none-any.whl (62 kB)\n",
            "\u001b[2K     \u001b[90m━━━━━━━━━━━━━━━━━━━━━━━━━━━━━━━━━━━━━━━━\u001b[0m \u001b[32m62.7/62.7 kB\u001b[0m \u001b[31m9.9 MB/s\u001b[0m eta \u001b[36m0:00:00\u001b[0m\n",
            "\u001b[?25hRequirement already satisfied: contourpy>=1.0.1 in /usr/local/lib/python3.10/dist-packages (from matplotlib>=3.3->-r requirements.txt (line 6)) (1.0.7)\n",
            "Requirement already satisfied: cycler>=0.10 in /usr/local/lib/python3.10/dist-packages (from matplotlib>=3.3->-r requirements.txt (line 6)) (0.11.0)\n",
            "Requirement already satisfied: fonttools>=4.22.0 in /usr/local/lib/python3.10/dist-packages (from matplotlib>=3.3->-r requirements.txt (line 6)) (4.39.3)\n",
            "Requirement already satisfied: kiwisolver>=1.0.1 in /usr/local/lib/python3.10/dist-packages (from matplotlib>=3.3->-r requirements.txt (line 6)) (1.4.4)\n",
            "Requirement already satisfied: packaging>=20.0 in /usr/local/lib/python3.10/dist-packages (from matplotlib>=3.3->-r requirements.txt (line 6)) (23.1)\n",
            "Requirement already satisfied: pyparsing>=2.3.1 in /usr/local/lib/python3.10/dist-packages (from matplotlib>=3.3->-r requirements.txt (line 6)) (3.0.9)\n",
            "Requirement already satisfied: python-dateutil>=2.7 in /usr/local/lib/python3.10/dist-packages (from matplotlib>=3.3->-r requirements.txt (line 6)) (2.8.2)\n",
            "Requirement already satisfied: urllib3<1.27,>=1.21.1 in /usr/local/lib/python3.10/dist-packages (from requests>=2.23.0->-r requirements.txt (line 12)) (1.26.15)\n",
            "Requirement already satisfied: certifi>=2017.4.17 in /usr/local/lib/python3.10/dist-packages (from requests>=2.23.0->-r requirements.txt (line 12)) (2022.12.7)\n",
            "Requirement already satisfied: charset-normalizer~=2.0.0 in /usr/local/lib/python3.10/dist-packages (from requests>=2.23.0->-r requirements.txt (line 12)) (2.0.12)\n",
            "Requirement already satisfied: idna<4,>=2.5 in /usr/local/lib/python3.10/dist-packages (from requests>=2.23.0->-r requirements.txt (line 12)) (3.4)\n",
            "Requirement already satisfied: filelock in /usr/local/lib/python3.10/dist-packages (from torch>=1.7.0->-r requirements.txt (line 15)) (3.12.0)\n",
            "Requirement already satisfied: typing-extensions in /usr/local/lib/python3.10/dist-packages (from torch>=1.7.0->-r requirements.txt (line 15)) (4.5.0)\n",
            "Requirement already satisfied: sympy in /usr/local/lib/python3.10/dist-packages (from torch>=1.7.0->-r requirements.txt (line 15)) (1.11.1)\n",
            "Requirement already satisfied: networkx in /usr/local/lib/python3.10/dist-packages (from torch>=1.7.0->-r requirements.txt (line 15)) (3.1)\n",
            "Requirement already satisfied: jinja2 in /usr/local/lib/python3.10/dist-packages (from torch>=1.7.0->-r requirements.txt (line 15)) (3.1.2)\n",
            "Requirement already satisfied: triton==2.0.0 in /usr/local/lib/python3.10/dist-packages (from torch>=1.7.0->-r requirements.txt (line 15)) (2.0.0)\n",
            "Requirement already satisfied: cmake in /usr/local/lib/python3.10/dist-packages (from triton==2.0.0->torch>=1.7.0->-r requirements.txt (line 15)) (3.25.2)\n",
            "Requirement already satisfied: lit in /usr/local/lib/python3.10/dist-packages (from triton==2.0.0->torch>=1.7.0->-r requirements.txt (line 15)) (16.0.5)\n",
            "Requirement already satisfied: pytz>=2020.1 in /usr/local/lib/python3.10/dist-packages (from pandas>=1.1.4->-r requirements.txt (line 27)) (2022.7.1)\n",
            "Collecting smmap<6,>=3.0.1 (from gitdb<5,>=4.0.1->gitpython>=3.1.30->-r requirements.txt (line 5))\n",
            "  Downloading smmap-5.0.0-py3-none-any.whl (24 kB)\n",
            "Requirement already satisfied: six>=1.5 in /usr/local/lib/python3.10/dist-packages (from python-dateutil>=2.7->matplotlib>=3.3->-r requirements.txt (line 6)) (1.16.0)\n",
            "Requirement already satisfied: MarkupSafe>=2.0 in /usr/local/lib/python3.10/dist-packages (from jinja2->torch>=1.7.0->-r requirements.txt (line 15)) (2.1.2)\n",
            "Requirement already satisfied: mpmath>=0.19 in /usr/local/lib/python3.10/dist-packages (from sympy->torch>=1.7.0->-r requirements.txt (line 15)) (1.3.0)\n",
            "Installing collected packages: smmap, gitdb, gitpython, ultralytics, thop\n",
            "Successfully installed gitdb-4.0.10 gitpython-3.1.31 smmap-5.0.0 thop-0.1.1.post2209072238 ultralytics-8.0.120\n"
          ]
        }
      ],
      "source": [
        "!pip install -r requirements.txt"
      ]
    },
    {
      "cell_type": "code",
      "execution_count": null,
      "metadata": {
        "id": "_1LtW2yVtg66"
      },
      "outputs": [],
      "source": [
        "import torch\n",
        "from matplotlib import pyplot as plt\n",
        "import numpy as np\n",
        "import cv2"
      ]
    },
    {
      "cell_type": "code",
      "execution_count": null,
      "metadata": {
        "colab": {
          "base_uri": "https://localhost:8080/"
        },
        "id": "c6d1aeLUa78L",
        "outputId": "8341aace-b6c3-46e4-9a96-45689e828651"
      },
      "outputs": [
        {
          "output_type": "stream",
          "name": "stderr",
          "text": [
            "/usr/local/lib/python3.10/dist-packages/torch/hub.py:286: UserWarning: You are about to download and run code from an untrusted repository. In a future release, this won't be allowed. To add the repository to your trusted list, change the command to {calling_fn}(..., trust_repo=False) and a command prompt will appear asking for an explicit confirmation of trust, or load(..., trust_repo=True), which will assume that the prompt is to be answered with 'yes'. You can also use load(..., trust_repo='check') which will only prompt for confirmation if the repo is not already trusted. This will eventually be the default behaviour\n",
            "  warnings.warn(\n",
            "Downloading: \"https://github.com/ultralytics/yolov5/zipball/master\" to /root/.cache/torch/hub/master.zip\n",
            "YOLOv5 🚀 2023-6-13 Python-3.10.12 torch-2.0.1+cu118 CUDA:0 (Tesla T4, 15102MiB)\n",
            "\n",
            "Downloading https://github.com/ultralytics/yolov5/releases/download/v7.0/yolov5s.pt to yolov5s.pt...\n",
            "100%|██████████| 14.1M/14.1M [00:00<00:00, 135MB/s]\n",
            "\n",
            "Fusing layers... \n",
            "YOLOv5s summary: 213 layers, 7225885 parameters, 0 gradients\n",
            "Adding AutoShape... \n"
          ]
        }
      ],
      "source": [
        "model = torch.hub.load('ultralytics/yolov5', 'yolov5s')"
      ]
    },
    {
      "cell_type": "code",
      "execution_count": null,
      "metadata": {
        "id": "wzl4PVgWjrs7"
      },
      "outputs": [],
      "source": [
        "'''from PIL import Image, ImageFilter\n",
        "\n",
        "\n",
        "# Opening the image (R prefixed to string\n",
        "# in order to deal with '\\' in paths)\n",
        "image= cv2.imread(r\"/content/Pothole.v1-raw.tensorflow/train/img-10_jpg.rf.eaceaaa6f119cf6eb49edc1bc92efaa2.jpg\")\n",
        "\n",
        "# Converting the image to grayscale, as edge detection\n",
        "# requires input image to be of mode = Grayscale (L)\n",
        "gray = cv2.cvtColor(image, cv2.COLOR_BGR2GRAY)\n",
        "blurred = cv2.GaussianBlur(gray, (7, 7), 0)\n",
        "(T, threshInv) = cv2.threshold(gray, 100, 255,\n",
        "cv2.THRESH_BINARY+cv2.THRESH_OTSU)\n",
        "cv2_imshow(threshInv)\n",
        "\n",
        "# Detecting Edges on the Image using the argument ImageFilter.FIND_EDGES'''\n"
      ]
    },
    {
      "cell_type": "code",
      "execution_count": null,
      "metadata": {
        "colab": {
          "base_uri": "https://localhost:8080/",
          "height": 1000
        },
        "id": "PPuhoCvoe7VX",
        "outputId": "ba747427-0c91-4f75-cca0-fd5cc9b776a9"
      },
      "outputs": [
        {
          "output_type": "stream",
          "name": "stdout",
          "text": [
            "Looking in indexes: https://pypi.org/simple, https://us-python.pkg.dev/colab-wheels/public/simple/\n",
            "Collecting roboflow\n",
            "  Downloading roboflow-1.0.9-py3-none-any.whl (56 kB)\n",
            "\u001b[2K     \u001b[90m━━━━━━━━━━━━━━━━━━━━━━━━━━━━━━━━━━━━━━━━\u001b[0m \u001b[32m56.3/56.3 kB\u001b[0m \u001b[31m2.2 MB/s\u001b[0m eta \u001b[36m0:00:00\u001b[0m\n",
            "\u001b[?25hRequirement already satisfied: certifi==2022.12.7 in /usr/local/lib/python3.10/dist-packages (from roboflow) (2022.12.7)\n",
            "Requirement already satisfied: chardet==4.0.0 in /usr/local/lib/python3.10/dist-packages (from roboflow) (4.0.0)\n",
            "Collecting cycler==0.10.0 (from roboflow)\n",
            "  Downloading cycler-0.10.0-py2.py3-none-any.whl (6.5 kB)\n",
            "Collecting idna==2.10 (from roboflow)\n",
            "  Downloading idna-2.10-py2.py3-none-any.whl (58 kB)\n",
            "\u001b[2K     \u001b[90m━━━━━━━━━━━━━━━━━━━━━━━━━━━━━━━━━━━━━━━━\u001b[0m \u001b[32m58.8/58.8 kB\u001b[0m \u001b[31m7.0 MB/s\u001b[0m eta \u001b[36m0:00:00\u001b[0m\n",
            "\u001b[?25hRequirement already satisfied: kiwisolver>=1.3.1 in /usr/local/lib/python3.10/dist-packages (from roboflow) (1.4.4)\n",
            "Requirement already satisfied: matplotlib in /usr/local/lib/python3.10/dist-packages (from roboflow) (3.7.1)\n",
            "Requirement already satisfied: numpy>=1.18.5 in /usr/local/lib/python3.10/dist-packages (from roboflow) (1.22.4)\n",
            "Requirement already satisfied: opencv-python>=4.1.2 in /usr/local/lib/python3.10/dist-packages (from roboflow) (4.7.0.72)\n",
            "Requirement already satisfied: Pillow>=7.1.2 in /usr/local/lib/python3.10/dist-packages (from roboflow) (8.4.0)\n",
            "Collecting pyparsing==2.4.7 (from roboflow)\n",
            "  Downloading pyparsing-2.4.7-py2.py3-none-any.whl (67 kB)\n",
            "\u001b[2K     \u001b[90m━━━━━━━━━━━━━━━━━━━━━━━━━━━━━━━━━━━━━━━━\u001b[0m \u001b[32m67.8/67.8 kB\u001b[0m \u001b[31m8.9 MB/s\u001b[0m eta \u001b[36m0:00:00\u001b[0m\n",
            "\u001b[?25hRequirement already satisfied: python-dateutil in /usr/local/lib/python3.10/dist-packages (from roboflow) (2.8.2)\n",
            "Collecting python-dotenv (from roboflow)\n",
            "  Downloading python_dotenv-1.0.0-py3-none-any.whl (19 kB)\n",
            "Requirement already satisfied: requests in /usr/local/lib/python3.10/dist-packages (from roboflow) (2.27.1)\n",
            "Requirement already satisfied: six in /usr/local/lib/python3.10/dist-packages (from roboflow) (1.16.0)\n",
            "Requirement already satisfied: urllib3>=1.26.6 in /usr/local/lib/python3.10/dist-packages (from roboflow) (1.26.15)\n",
            "Collecting wget (from roboflow)\n",
            "  Downloading wget-3.2.zip (10 kB)\n",
            "  Preparing metadata (setup.py) ... \u001b[?25l\u001b[?25hdone\n",
            "Requirement already satisfied: tqdm>=4.41.0 in /usr/local/lib/python3.10/dist-packages (from roboflow) (4.65.0)\n",
            "Requirement already satisfied: PyYAML>=5.3.1 in /usr/local/lib/python3.10/dist-packages (from roboflow) (6.0)\n",
            "Collecting requests-toolbelt (from roboflow)\n",
            "  Downloading requests_toolbelt-1.0.0-py2.py3-none-any.whl (54 kB)\n",
            "\u001b[2K     \u001b[90m━━━━━━━━━━━━━━━━━━━━━━━━━━━━━━━━━━━━━━━━\u001b[0m \u001b[32m54.5/54.5 kB\u001b[0m \u001b[31m7.0 MB/s\u001b[0m eta \u001b[36m0:00:00\u001b[0m\n",
            "\u001b[?25hRequirement already satisfied: contourpy>=1.0.1 in /usr/local/lib/python3.10/dist-packages (from matplotlib->roboflow) (1.0.7)\n",
            "Requirement already satisfied: fonttools>=4.22.0 in /usr/local/lib/python3.10/dist-packages (from matplotlib->roboflow) (4.39.3)\n",
            "Requirement already satisfied: packaging>=20.0 in /usr/local/lib/python3.10/dist-packages (from matplotlib->roboflow) (23.1)\n",
            "Requirement already satisfied: charset-normalizer~=2.0.0 in /usr/local/lib/python3.10/dist-packages (from requests->roboflow) (2.0.12)\n",
            "Building wheels for collected packages: wget\n",
            "  Building wheel for wget (setup.py) ... \u001b[?25l\u001b[?25hdone\n",
            "  Created wheel for wget: filename=wget-3.2-py3-none-any.whl size=9657 sha256=0a10c9659a1c718a2b73594dcfd2c6dffa50d24a8734f85967438205fb1c8fc4\n",
            "  Stored in directory: /root/.cache/pip/wheels/8b/f1/7f/5c94f0a7a505ca1c81cd1d9208ae2064675d97582078e6c769\n",
            "Successfully built wget\n",
            "Installing collected packages: wget, python-dotenv, pyparsing, idna, cycler, requests-toolbelt, roboflow\n",
            "  Attempting uninstall: pyparsing\n",
            "    Found existing installation: pyparsing 3.0.9\n",
            "    Uninstalling pyparsing-3.0.9:\n",
            "      Successfully uninstalled pyparsing-3.0.9\n",
            "  Attempting uninstall: idna\n",
            "    Found existing installation: idna 3.4\n",
            "    Uninstalling idna-3.4:\n",
            "      Successfully uninstalled idna-3.4\n",
            "  Attempting uninstall: cycler\n",
            "    Found existing installation: cycler 0.11.0\n",
            "    Uninstalling cycler-0.11.0:\n",
            "      Successfully uninstalled cycler-0.11.0\n",
            "Successfully installed cycler-0.10.0 idna-2.10 pyparsing-2.4.7 python-dotenv-1.0.0 requests-toolbelt-1.0.0 roboflow-1.0.9 wget-3.2\n"
          ]
        },
        {
          "output_type": "display_data",
          "data": {
            "application/vnd.colab-display-data+json": {
              "pip_warning": {
                "packages": [
                  "cycler",
                  "idna",
                  "pyparsing"
                ]
              }
            }
          },
          "metadata": {}
        },
        {
          "output_type": "stream",
          "name": "stdout",
          "text": [
            "loading Roboflow workspace...\n",
            "loading Roboflow project...\n",
            "Downloading Dataset Version Zip in Pothole-Detection-System-2 to yolov5pytorch: 100% [29725945 / 29725945] bytes\n"
          ]
        },
        {
          "output_type": "stream",
          "name": "stderr",
          "text": [
            "Extracting Dataset Version Zip to Pothole-Detection-System-2 in yolov5pytorch:: 100%|██████████| 904/904 [00:00<00:00, 3864.80it/s]\n"
          ]
        }
      ],
      "source": [
        "!pip install roboflow\n",
        "\n",
        "from roboflow import Roboflow\n",
        "rf = Roboflow(api_key=\"tsvHLBH9lBviTSnQWzme\")\n",
        "project = rf.workspace(\"miniproject-cosdz\").project(\"pothole-detection-system-edqhi\")\n",
        "dataset = project.version(2).download(\"yolov5\")\n",
        "\n"
      ]
    },
    {
      "cell_type": "code",
      "execution_count": null,
      "metadata": {
        "colab": {
          "base_uri": "https://localhost:8080/"
        },
        "id": "ee9ZmYJIgFQx",
        "outputId": "942057ea-9e63-419c-baef-f96de24496f8"
      },
      "outputs": [
        {
          "output_type": "stream",
          "name": "stdout",
          "text": [
            "/content/yolov5\n"
          ]
        }
      ],
      "source": [
        "%cd /content/yolov5"
      ]
    },
    {
      "cell_type": "code",
      "execution_count": null,
      "metadata": {
        "colab": {
          "base_uri": "https://localhost:8080/"
        },
        "id": "t3Yz4qOqt2Aj",
        "outputId": "289321be-e108-41cb-9323-b1780df2edb9"
      },
      "outputs": [
        {
          "output_type": "stream",
          "name": "stdout",
          "text": [
            "\u001b[34m\u001b[1mtrain: \u001b[0mweights=yolov5s.pt, cfg=, data=/content/yolov5/Pothole-Detection-System-2/data.yaml, hyp=data/hyps/hyp.scratch-low.yaml, epochs=30, batch_size=16, imgsz=416, rect=False, resume=False, nosave=False, noval=False, noautoanchor=False, noplots=False, evolve=None, bucket=, cache=ram, image_weights=False, device=, multi_scale=False, single_cls=False, optimizer=SGD, sync_bn=False, workers=8, project=runs/train, name=exp, exist_ok=False, quad=False, cos_lr=False, label_smoothing=0.0, patience=100, freeze=[0], save_period=-1, seed=0, local_rank=-1, entity=None, upload_dataset=False, bbox_interval=-1, artifact_alias=latest\n",
            "\u001b[34m\u001b[1mgithub: \u001b[0mup to date with https://github.com/ultralytics/yolov5 ✅\n",
            "YOLOv5 🚀 v7.0-178-ga199480 Python-3.10.12 torch-2.0.1+cu118 CUDA:0 (Tesla T4, 15102MiB)\n",
            "\n",
            "\u001b[34m\u001b[1mhyperparameters: \u001b[0mlr0=0.01, lrf=0.01, momentum=0.937, weight_decay=0.0005, warmup_epochs=3.0, warmup_momentum=0.8, warmup_bias_lr=0.1, box=0.05, cls=0.5, cls_pw=1.0, obj=1.0, obj_pw=1.0, iou_t=0.2, anchor_t=4.0, fl_gamma=0.0, hsv_h=0.015, hsv_s=0.7, hsv_v=0.4, degrees=0.0, translate=0.1, scale=0.5, shear=0.0, perspective=0.0, flipud=0.0, fliplr=0.5, mosaic=1.0, mixup=0.0, copy_paste=0.0\n",
            "\u001b[34m\u001b[1mClearML: \u001b[0mrun 'pip install clearml' to automatically track, visualize and remotely train YOLOv5 🚀 in ClearML\n",
            "\u001b[34m\u001b[1mComet: \u001b[0mrun 'pip install comet_ml' to automatically track and visualize YOLOv5 🚀 runs in Comet\n",
            "\u001b[34m\u001b[1mTensorBoard: \u001b[0mStart with 'tensorboard --logdir runs/train', view at http://localhost:6006/\n",
            "Downloading https://ultralytics.com/assets/Arial.ttf to /root/.config/Ultralytics/Arial.ttf...\n",
            "100% 755k/755k [00:00<00:00, 18.2MB/s]\n",
            "Overriding model.yaml nc=80 with nc=3\n",
            "\n",
            "                 from  n    params  module                                  arguments                     \n",
            "  0                -1  1      3520  models.common.Conv                      [3, 32, 6, 2, 2]              \n",
            "  1                -1  1     18560  models.common.Conv                      [32, 64, 3, 2]                \n",
            "  2                -1  1     18816  models.common.C3                        [64, 64, 1]                   \n",
            "  3                -1  1     73984  models.common.Conv                      [64, 128, 3, 2]               \n",
            "  4                -1  2    115712  models.common.C3                        [128, 128, 2]                 \n",
            "  5                -1  1    295424  models.common.Conv                      [128, 256, 3, 2]              \n",
            "  6                -1  3    625152  models.common.C3                        [256, 256, 3]                 \n",
            "  7                -1  1   1180672  models.common.Conv                      [256, 512, 3, 2]              \n",
            "  8                -1  1   1182720  models.common.C3                        [512, 512, 1]                 \n",
            "  9                -1  1    656896  models.common.SPPF                      [512, 512, 5]                 \n",
            " 10                -1  1    131584  models.common.Conv                      [512, 256, 1, 1]              \n",
            " 11                -1  1         0  torch.nn.modules.upsampling.Upsample    [None, 2, 'nearest']          \n",
            " 12           [-1, 6]  1         0  models.common.Concat                    [1]                           \n",
            " 13                -1  1    361984  models.common.C3                        [512, 256, 1, False]          \n",
            " 14                -1  1     33024  models.common.Conv                      [256, 128, 1, 1]              \n",
            " 15                -1  1         0  torch.nn.modules.upsampling.Upsample    [None, 2, 'nearest']          \n",
            " 16           [-1, 4]  1         0  models.common.Concat                    [1]                           \n",
            " 17                -1  1     90880  models.common.C3                        [256, 128, 1, False]          \n",
            " 18                -1  1    147712  models.common.Conv                      [128, 128, 3, 2]              \n",
            " 19          [-1, 14]  1         0  models.common.Concat                    [1]                           \n",
            " 20                -1  1    296448  models.common.C3                        [256, 256, 1, False]          \n",
            " 21                -1  1    590336  models.common.Conv                      [256, 256, 3, 2]              \n",
            " 22          [-1, 10]  1         0  models.common.Concat                    [1]                           \n",
            " 23                -1  1   1182720  models.common.C3                        [512, 512, 1, False]          \n",
            " 24      [17, 20, 23]  1     21576  models.yolo.Detect                      [3, [[10, 13, 16, 30, 33, 23], [30, 61, 62, 45, 59, 119], [116, 90, 156, 198, 373, 326]], [128, 256, 512]]\n",
            "Model summary: 214 layers, 7027720 parameters, 7027720 gradients, 16.0 GFLOPs\n",
            "\n",
            "Transferred 343/349 items from yolov5s.pt\n",
            "\u001b[34m\u001b[1mAMP: \u001b[0mchecks passed ✅\n",
            "\u001b[34m\u001b[1moptimizer:\u001b[0m SGD(lr=0.01) with parameter groups 57 weight(decay=0.0), 60 weight(decay=0.0005), 60 bias\n",
            "\u001b[34m\u001b[1malbumentations: \u001b[0mBlur(p=0.01, blur_limit=(3, 7)), MedianBlur(p=0.01, blur_limit=(3, 7)), ToGray(p=0.01), CLAHE(p=0.01, clip_limit=(1, 4.0), tile_grid_size=(8, 8))\n",
            "\u001b[34m\u001b[1mtrain: \u001b[0mScanning /content/yolov5/Pothole-Detection-System-2/train/labels... 338 images, 0 backgrounds, 0 corrupt: 100% 338/338 [00:00<00:00, 1374.32it/s]\n",
            "\u001b[34m\u001b[1mtrain: \u001b[0mNew cache created: /content/yolov5/Pothole-Detection-System-2/train/labels.cache\n",
            "\u001b[34m\u001b[1mtrain: \u001b[0mCaching images (0.2GB ram): 100% 338/338 [00:01<00:00, 175.29it/s]\n",
            "\u001b[34m\u001b[1mval: \u001b[0mScanning /content/yolov5/Pothole-Detection-System-2/valid/labels... 62 images, 0 backgrounds, 0 corrupt: 100% 62/62 [00:00<00:00, 434.72it/s]\n",
            "\u001b[34m\u001b[1mval: \u001b[0mNew cache created: /content/yolov5/Pothole-Detection-System-2/valid/labels.cache\n",
            "\u001b[34m\u001b[1mval: \u001b[0mCaching images (0.0GB ram): 100% 62/62 [00:00<00:00, 80.36it/s]\n",
            "\n",
            "\u001b[34m\u001b[1mAutoAnchor: \u001b[0m4.77 anchors/target, 1.000 Best Possible Recall (BPR). Current anchors are a good fit to dataset ✅\n",
            "Plotting labels to runs/train/exp/labels.jpg... \n",
            "Image sizes 416 train, 416 val\n",
            "Using 2 dataloader workers\n",
            "Logging results to \u001b[1mruns/train/exp\u001b[0m\n",
            "Starting training for 30 epochs...\n",
            "\n",
            "      Epoch    GPU_mem   box_loss   obj_loss   cls_loss  Instances       Size\n",
            "       0/29      1.56G     0.1122    0.02492    0.03961          4        416: 100% 22/22 [00:08<00:00,  2.67it/s]\n",
            "                 Class     Images  Instances          P          R      mAP50   mAP50-95: 100% 2/2 [00:01<00:00,  1.07it/s]\n",
            "                   all         62        155    0.00379      0.304     0.0132    0.00297\n",
            "\n",
            "      Epoch    GPU_mem   box_loss   obj_loss   cls_loss  Instances       Size\n",
            "       1/29      1.72G    0.09773    0.03175    0.03514         14        416: 100% 22/22 [00:04<00:00,  4.46it/s]\n",
            "                 Class     Images  Instances          P          R      mAP50   mAP50-95: 100% 2/2 [00:00<00:00,  3.46it/s]\n",
            "                   all         62        155      0.593     0.0519     0.0375    0.00899\n",
            "\n",
            "      Epoch    GPU_mem   box_loss   obj_loss   cls_loss  Instances       Size\n",
            "       2/29      1.73G    0.08206    0.03284    0.02947          3        416: 100% 22/22 [00:03<00:00,  6.00it/s]\n",
            "                 Class     Images  Instances          P          R      mAP50   mAP50-95: 100% 2/2 [00:00<00:00,  4.10it/s]\n",
            "                   all         62        155      0.562      0.169      0.108      0.043\n",
            "\n",
            "      Epoch    GPU_mem   box_loss   obj_loss   cls_loss  Instances       Size\n",
            "       3/29      1.73G    0.07538    0.03345    0.02955          9        416: 100% 22/22 [00:04<00:00,  5.29it/s]\n",
            "                 Class     Images  Instances          P          R      mAP50   mAP50-95: 100% 2/2 [00:00<00:00,  2.23it/s]\n",
            "                   all         62        155      0.572      0.182     0.0577     0.0191\n",
            "\n",
            "      Epoch    GPU_mem   box_loss   obj_loss   cls_loss  Instances       Size\n",
            "       4/29      1.73G    0.07247    0.03294    0.02701         15        416: 100% 22/22 [00:03<00:00,  6.04it/s]\n",
            "                 Class     Images  Instances          P          R      mAP50   mAP50-95: 100% 2/2 [00:00<00:00,  4.17it/s]\n",
            "                   all         62        155      0.585      0.195      0.118     0.0388\n",
            "\n",
            "      Epoch    GPU_mem   box_loss   obj_loss   cls_loss  Instances       Size\n",
            "       5/29      1.73G    0.06555    0.03051    0.02627         14        416: 100% 22/22 [00:03<00:00,  6.31it/s]\n",
            "                 Class     Images  Instances          P          R      mAP50   mAP50-95: 100% 2/2 [00:00<00:00,  4.07it/s]\n",
            "                   all         62        155       0.65      0.145      0.167     0.0543\n",
            "\n",
            "      Epoch    GPU_mem   box_loss   obj_loss   cls_loss  Instances       Size\n",
            "       6/29      1.73G     0.0622    0.02857    0.02378         12        416: 100% 22/22 [00:04<00:00,  4.92it/s]\n",
            "                 Class     Images  Instances          P          R      mAP50   mAP50-95: 100% 2/2 [00:00<00:00,  2.04it/s]\n",
            "                   all         62        155      0.698      0.213      0.229      0.081\n",
            "\n",
            "      Epoch    GPU_mem   box_loss   obj_loss   cls_loss  Instances       Size\n",
            "       7/29      1.73G     0.0594     0.0283    0.02062          7        416: 100% 22/22 [00:03<00:00,  6.38it/s]\n",
            "                 Class     Images  Instances          P          R      mAP50   mAP50-95: 100% 2/2 [00:00<00:00,  3.90it/s]\n",
            "                   all         62        155      0.373      0.414      0.304     0.0959\n",
            "\n",
            "      Epoch    GPU_mem   box_loss   obj_loss   cls_loss  Instances       Size\n",
            "       8/29      1.73G      0.058    0.02723     0.0176          2        416: 100% 22/22 [00:03<00:00,  6.53it/s]\n",
            "                 Class     Images  Instances          P          R      mAP50   mAP50-95: 100% 2/2 [00:00<00:00,  3.47it/s]\n",
            "                   all         62        155      0.434      0.323      0.323      0.111\n",
            "\n",
            "      Epoch    GPU_mem   box_loss   obj_loss   cls_loss  Instances       Size\n",
            "       9/29      1.73G     0.0545     0.0279    0.01723          8        416: 100% 22/22 [00:04<00:00,  4.50it/s]\n",
            "                 Class     Images  Instances          P          R      mAP50   mAP50-95: 100% 2/2 [00:00<00:00,  4.39it/s]\n",
            "                   all         62        155      0.375      0.482      0.371      0.153\n",
            "\n",
            "      Epoch    GPU_mem   box_loss   obj_loss   cls_loss  Instances       Size\n",
            "      10/29      1.73G    0.05204    0.02452    0.01636          5        416: 100% 22/22 [00:03<00:00,  6.50it/s]\n",
            "                 Class     Images  Instances          P          R      mAP50   mAP50-95: 100% 2/2 [00:00<00:00,  4.47it/s]\n",
            "                   all         62        155      0.566      0.481      0.488      0.203\n",
            "\n",
            "      Epoch    GPU_mem   box_loss   obj_loss   cls_loss  Instances       Size\n",
            "      11/29      1.73G    0.05106    0.02409    0.01467          7        416: 100% 22/22 [00:03<00:00,  6.59it/s]\n",
            "                 Class     Images  Instances          P          R      mAP50   mAP50-95: 100% 2/2 [00:00<00:00,  4.55it/s]\n",
            "                   all         62        155      0.466      0.509      0.503      0.229\n",
            "\n",
            "      Epoch    GPU_mem   box_loss   obj_loss   cls_loss  Instances       Size\n",
            "      12/29      1.73G    0.05091    0.02452     0.0104          4        416: 100% 22/22 [00:04<00:00,  4.47it/s]\n",
            "                 Class     Images  Instances          P          R      mAP50   mAP50-95: 100% 2/2 [00:00<00:00,  4.26it/s]\n",
            "                   all         62        155      0.418      0.584      0.482      0.203\n",
            "\n",
            "      Epoch    GPU_mem   box_loss   obj_loss   cls_loss  Instances       Size\n",
            "      13/29      1.73G    0.04843    0.02361    0.01022         11        416: 100% 22/22 [00:03<00:00,  6.24it/s]\n",
            "                 Class     Images  Instances          P          R      mAP50   mAP50-95: 100% 2/2 [00:00<00:00,  4.43it/s]\n",
            "                   all         62        155      0.457      0.556      0.437      0.196\n",
            "\n",
            "      Epoch    GPU_mem   box_loss   obj_loss   cls_loss  Instances       Size\n",
            "      14/29      1.73G    0.04789    0.02193    0.01132          5        416: 100% 22/22 [00:03<00:00,  6.41it/s]\n",
            "                 Class     Images  Instances          P          R      mAP50   mAP50-95: 100% 2/2 [00:00<00:00,  3.44it/s]\n",
            "                   all         62        155      0.547      0.465      0.459      0.207\n",
            "\n",
            "      Epoch    GPU_mem   box_loss   obj_loss   cls_loss  Instances       Size\n",
            "      15/29      1.73G    0.04531    0.02096   0.007225          6        416: 100% 22/22 [00:04<00:00,  5.05it/s]\n",
            "                 Class     Images  Instances          P          R      mAP50   mAP50-95: 100% 2/2 [00:00<00:00,  4.03it/s]\n",
            "                   all         62        155      0.484      0.439      0.429      0.203\n",
            "\n",
            "      Epoch    GPU_mem   box_loss   obj_loss   cls_loss  Instances       Size\n",
            "      16/29      1.73G    0.04537     0.0241   0.006828         10        416: 100% 22/22 [00:03<00:00,  7.00it/s]\n",
            "                 Class     Images  Instances          P          R      mAP50   mAP50-95: 100% 2/2 [00:00<00:00,  3.99it/s]\n",
            "                   all         62        155      0.566      0.607      0.594      0.256\n",
            "\n",
            "      Epoch    GPU_mem   box_loss   obj_loss   cls_loss  Instances       Size\n",
            "      17/29      1.73G    0.04187    0.02098   0.006998         11        416: 100% 22/22 [00:03<00:00,  6.83it/s]\n",
            "                 Class     Images  Instances          P          R      mAP50   mAP50-95: 100% 2/2 [00:00<00:00,  4.91it/s]\n",
            "                   all         62        155      0.602      0.491      0.516      0.232\n",
            "\n",
            "      Epoch    GPU_mem   box_loss   obj_loss   cls_loss  Instances       Size\n",
            "      18/29      1.73G    0.04377    0.02279   0.007069          6        416: 100% 22/22 [00:04<00:00,  4.68it/s]\n",
            "                 Class     Images  Instances          P          R      mAP50   mAP50-95: 100% 2/2 [00:00<00:00,  4.00it/s]\n",
            "                   all         62        155      0.525       0.35      0.325      0.138\n",
            "\n",
            "      Epoch    GPU_mem   box_loss   obj_loss   cls_loss  Instances       Size\n",
            "      19/29      1.73G     0.0413    0.02334   0.005455          7        416: 100% 22/22 [00:03<00:00,  6.58it/s]\n",
            "                 Class     Images  Instances          P          R      mAP50   mAP50-95: 100% 2/2 [00:00<00:00,  3.60it/s]\n",
            "                   all         62        155      0.652      0.608      0.638      0.256\n",
            "\n",
            "      Epoch    GPU_mem   box_loss   obj_loss   cls_loss  Instances       Size\n",
            "      20/29      1.73G    0.04151    0.02181   0.006725         16        416: 100% 22/22 [00:03<00:00,  6.39it/s]\n",
            "                 Class     Images  Instances          P          R      mAP50   mAP50-95: 100% 2/2 [00:00<00:00,  4.13it/s]\n",
            "                   all         62        155      0.651      0.612      0.619      0.284\n",
            "\n",
            "      Epoch    GPU_mem   box_loss   obj_loss   cls_loss  Instances       Size\n",
            "      21/29      1.73G    0.03909     0.0203   0.006029          6        416: 100% 22/22 [00:04<00:00,  4.66it/s]\n",
            "                 Class     Images  Instances          P          R      mAP50   mAP50-95: 100% 2/2 [00:00<00:00,  4.22it/s]\n",
            "                   all         62        155      0.629      0.671      0.629      0.302\n",
            "\n",
            "      Epoch    GPU_mem   box_loss   obj_loss   cls_loss  Instances       Size\n",
            "      22/29      1.73G    0.04089    0.02205   0.006503         11        416: 100% 22/22 [00:03<00:00,  6.11it/s]\n",
            "                 Class     Images  Instances          P          R      mAP50   mAP50-95: 100% 2/2 [00:00<00:00,  4.44it/s]\n",
            "                   all         62        155      0.699      0.606      0.645      0.326\n",
            "\n",
            "      Epoch    GPU_mem   box_loss   obj_loss   cls_loss  Instances       Size\n",
            "      23/29      1.73G    0.03867     0.0216   0.004422          3        416: 100% 22/22 [00:03<00:00,  5.53it/s]\n",
            "                 Class     Images  Instances          P          R      mAP50   mAP50-95: 100% 2/2 [00:00<00:00,  2.70it/s]\n",
            "                   all         62        155      0.618      0.723       0.66      0.318\n",
            "\n",
            "      Epoch    GPU_mem   box_loss   obj_loss   cls_loss  Instances       Size\n",
            "      24/29      1.73G    0.03828    0.02128   0.004917          6        416: 100% 22/22 [00:03<00:00,  5.74it/s]\n",
            "                 Class     Images  Instances          P          R      mAP50   mAP50-95: 100% 2/2 [00:00<00:00,  4.45it/s]\n",
            "                   all         62        155      0.616      0.632      0.632      0.291\n",
            "\n",
            "      Epoch    GPU_mem   box_loss   obj_loss   cls_loss  Instances       Size\n",
            "      25/29      1.73G    0.03763    0.02175   0.005812         10        416: 100% 22/22 [00:03<00:00,  6.21it/s]\n",
            "                 Class     Images  Instances          P          R      mAP50   mAP50-95: 100% 2/2 [00:00<00:00,  4.06it/s]\n",
            "                   all         62        155       0.68      0.612      0.631       0.31\n",
            "\n",
            "      Epoch    GPU_mem   box_loss   obj_loss   cls_loss  Instances       Size\n",
            "      26/29      1.73G    0.03534    0.02057   0.004042          2        416: 100% 22/22 [00:04<00:00,  4.98it/s]\n",
            "                 Class     Images  Instances          P          R      mAP50   mAP50-95: 100% 2/2 [00:00<00:00,  2.04it/s]\n",
            "                   all         62        155      0.715      0.599      0.656      0.317\n",
            "\n",
            "      Epoch    GPU_mem   box_loss   obj_loss   cls_loss  Instances       Size\n",
            "      27/29      1.73G    0.03684    0.02092    0.00449          4        416: 100% 22/22 [00:03<00:00,  6.33it/s]\n",
            "                 Class     Images  Instances          P          R      mAP50   mAP50-95: 100% 2/2 [00:00<00:00,  3.86it/s]\n",
            "                   all         62        155      0.644      0.638       0.65      0.315\n",
            "\n",
            "      Epoch    GPU_mem   box_loss   obj_loss   cls_loss  Instances       Size\n",
            "      28/29      1.73G     0.0352    0.02169   0.003885          6        416: 100% 22/22 [00:03<00:00,  6.58it/s]\n",
            "                 Class     Images  Instances          P          R      mAP50   mAP50-95: 100% 2/2 [00:00<00:00,  3.59it/s]\n",
            "                   all         62        155      0.661      0.635      0.659      0.327\n",
            "\n",
            "      Epoch    GPU_mem   box_loss   obj_loss   cls_loss  Instances       Size\n",
            "      29/29      1.73G    0.03561    0.02138   0.004206         19        416: 100% 22/22 [00:04<00:00,  4.64it/s]\n",
            "                 Class     Images  Instances          P          R      mAP50   mAP50-95: 100% 2/2 [00:00<00:00,  3.00it/s]\n",
            "                   all         62        155      0.765      0.639      0.654      0.327\n",
            "\n",
            "30 epochs completed in 0.043 hours.\n",
            "Optimizer stripped from runs/train/exp/weights/last.pt, 14.3MB\n",
            "Optimizer stripped from runs/train/exp/weights/best.pt, 14.3MB\n",
            "\n",
            "Validating runs/train/exp/weights/best.pt...\n",
            "Fusing layers... \n",
            "Model summary: 157 layers, 7018216 parameters, 0 gradients, 15.8 GFLOPs\n",
            "                 Class     Images  Instances          P          R      mAP50   mAP50-95: 100% 2/2 [00:01<00:00,  1.55it/s]\n",
            "                   all         62        155      0.661      0.636      0.648      0.325\n",
            "                     0         62         77      0.639      0.551      0.575      0.294\n",
            "                     2         62         78      0.684      0.721      0.721      0.356\n",
            "Results saved to \u001b[1mruns/train/exp\u001b[0m\n"
          ]
        }
      ],
      "source": [
        "!python train.py --img 416 --batch 16 --epochs 30 --data /content/yolov5/Pothole-Detection-System-2/data.yaml --weights yolov5s.pt --cache"
      ]
    },
    {
      "cell_type": "code",
      "execution_count": null,
      "metadata": {
        "colab": {
          "base_uri": "https://localhost:8080/"
        },
        "id": "_1xMUOvjYhw7",
        "outputId": "469a841d-5d12-484a-c0af-74cc6fdcfc11"
      },
      "outputs": [
        {
          "output_type": "stream",
          "name": "stdout",
          "text": [
            "\u001b[34m\u001b[1mdetect: \u001b[0mweights=['/content/yolov5/runs/train/exp/weights/best.pt'], source=/content/imaged.jpeg, data=data/coco128.yaml, imgsz=[416, 416], conf_thres=0.25, iou_thres=0.45, max_det=1000, device=, view_img=False, save_txt=False, save_conf=False, save_crop=False, nosave=False, classes=None, agnostic_nms=False, augment=False, visualize=False, update=False, project=runs/detect, name=exp, exist_ok=False, line_thickness=3, hide_labels=False, hide_conf=False, half=False, dnn=False, vid_stride=1\n",
            "YOLOv5 🚀 v7.0-178-ga199480 Python-3.10.12 torch-2.0.1+cu118 CUDA:0 (Tesla T4, 15102MiB)\n",
            "\n",
            "Fusing layers... \n",
            "Model summary: 157 layers, 7018216 parameters, 0 gradients, 15.8 GFLOPs\n",
            "image 1/1 /content/imaged.jpeg: 416x320 2 0s, 40.7ms\n",
            "Speed: 0.5ms pre-process, 40.7ms inference, 92.2ms NMS per image at shape (1, 3, 416, 416)\n",
            "Results saved to \u001b[1mruns/detect/exp\u001b[0m\n"
          ]
        }
      ],
      "source": [
        "!python detect.py --weights /content/yolov5/runs/train/exp/weights/best.pt --img 416 --conf 0.25 --source /content/imaged.jpeg"
      ]
    },
    {
      "cell_type": "code",
      "execution_count": null,
      "metadata": {
        "colab": {
          "base_uri": "https://localhost:8080/"
        },
        "id": "j2FbEvfir_b4",
        "outputId": "ee247b10-97fe-4cfb-8664-a79fb52c11b0"
      },
      "outputs": [
        {
          "output_type": "stream",
          "name": "stdout",
          "text": [
            "\u001b[34m\u001b[1mval: \u001b[0mdata=/content/yolov5/Pothole-Detection-System-2/data.yaml, weights=['/content/yolov5/runs/train/exp/weights/best.pt'], batch_size=32, imgsz=416, conf_thres=0.001, iou_thres=0.6, max_det=300, task=val, device=, workers=8, single_cls=False, augment=False, verbose=False, save_txt=False, save_hybrid=False, save_conf=False, save_json=False, project=runs/val, name=exp, exist_ok=False, half=False, dnn=False\n",
            "YOLOv5 🚀 v7.0-178-ga199480 Python-3.10.12 torch-2.0.1+cu118 CUDA:0 (Tesla T4, 15102MiB)\n",
            "\n",
            "Fusing layers... \n",
            "Model summary: 157 layers, 7018216 parameters, 0 gradients, 15.8 GFLOPs\n",
            "\u001b[34m\u001b[1mval: \u001b[0mScanning /content/yolov5/Pothole-Detection-System-2/valid/labels.cache... 62 images, 0 backgrounds, 0 corrupt: 100% 62/62 [00:00<?, ?it/s]\n",
            "                 Class     Images  Instances          P          R      mAP50   mAP50-95: 100% 2/2 [00:03<00:00,  1.53s/it]\n",
            "                   all         62        155      0.661      0.636       0.65      0.328\n",
            "                     0         62         77      0.639      0.551      0.579      0.299\n",
            "                     2         62         78      0.684      0.721      0.721      0.358\n",
            "Speed: 0.1ms pre-process, 5.2ms inference, 5.5ms NMS per image at shape (32, 3, 416, 416)\n",
            "Results saved to \u001b[1mruns/val/exp\u001b[0m\n"
          ]
        }
      ],
      "source": [
        "!python val.py --weights /content/yolov5/runs/train/exp/weights/best.pt --data /content/yolov5/Pothole-Detection-System-2/data.yaml --img 416"
      ]
    },
    {
      "cell_type": "code",
      "execution_count": null,
      "metadata": {
        "colab": {
          "base_uri": "https://localhost:8080/"
        },
        "id": "ZvdUojATxWxz",
        "outputId": "a9e1dd8e-d1ba-40d7-b428-e13793b87963"
      },
      "outputs": [
        {
          "name": "stdout",
          "output_type": "stream",
          "text": [
            "\u001b[34m\u001b[1mdetect: \u001b[0mweights=['runs/train/exp4/weights/best.pt'], source=Detection2-9/test/images/, data=data/coco128.yaml, imgsz=[640, 640], conf_thres=0.25, iou_thres=0.45, max_det=1000, device=, view_img=False, save_txt=False, save_conf=False, save_crop=False, nosave=False, classes=None, agnostic_nms=False, augment=False, visualize=False, update=False, project=runs/detect, name=exp, exist_ok=False, line_thickness=3, hide_labels=False, hide_conf=False, half=False, dnn=False, vid_stride=1\n",
            "YOLOv5 🚀 v7.0-177-g89c3040 Python-3.10.11 torch-2.0.1+cu118 CUDA:0 (Tesla T4, 15102MiB)\n",
            "\n",
            "Fusing layers... \n",
            "Model summary: 157 layers, 7018216 parameters, 0 gradients, 15.8 GFLOPs\n",
            "image 1/222 /content/yolov5/Detection2-9/test/images/104_jpg.rf.1c891eaaeaadc8b92fe9428f7a939749.jpg: 640x640 6 potholes, 11.5ms\n",
            "image 2/222 /content/yolov5/Detection2-9/test/images/126_jpg.rf.1bbe81b0ded6d297080ba4bb60cee637.jpg: 640x640 1 pothole, 11.6ms\n",
            "image 3/222 /content/yolov5/Detection2-9/test/images/128_jpg.rf.ed56347688ff649737ef906ebf311545.jpg: 640x640 2 potholes, 11.5ms\n",
            "image 4/222 /content/yolov5/Detection2-9/test/images/130_jpg.rf.329729dd7229cba0e130ff6a351cfa7e.jpg: 640x640 6 potholes, 11.5ms\n",
            "image 5/222 /content/yolov5/Detection2-9/test/images/136_jpg.rf.73c279d03bfd25fd3f5b3dee0d008f7f.jpg: 640x640 1 pothole, 11.5ms\n",
            "image 6/222 /content/yolov5/Detection2-9/test/images/140_jpg.rf.86664e40f8f3c9767c991e3566da60da.jpg: 640x640 1 pothole, 11.5ms\n",
            "image 7/222 /content/yolov5/Detection2-9/test/images/141_jpg.rf.c7aa97d467c5f0cc8e8620082c6b85ca.jpg: 640x640 20 potholes, 11.5ms\n",
            "image 8/222 /content/yolov5/Detection2-9/test/images/142_jpg.rf.9e01eeb419b9c564a61a618063e86309.jpg: 640x640 (no detections), 11.5ms\n",
            "image 9/222 /content/yolov5/Detection2-9/test/images/143_jpg.rf.3ff58ce23bbea9b515e1cf63eff1ad64.jpg: 640x640 6 potholes, 11.5ms\n",
            "image 10/222 /content/yolov5/Detection2-9/test/images/156_jpg.rf.6dbe717c65d7155e2a9569971fc24fc4.jpg: 640x640 14 potholes, 11.5ms\n",
            "image 11/222 /content/yolov5/Detection2-9/test/images/159_jpg.rf.c9b2ffa4b69263cd74590ef85b708070.jpg: 640x640 4 potholes, 11.5ms\n",
            "image 12/222 /content/yolov5/Detection2-9/test/images/173_jpg.rf.e995776c59885c0135df8ba8cf0afc57.jpg: 640x640 6 potholes, 11.5ms\n",
            "image 13/222 /content/yolov5/Detection2-9/test/images/179_jpg.rf.889575cebd288c653e67daecd0c0bc1c.jpg: 640x640 1 alligator-crack, 4 potholes, 11.5ms\n",
            "image 14/222 /content/yolov5/Detection2-9/test/images/183_jpg.rf.5167dd3637a0bdf017a322b37b2d6935.jpg: 640x640 19 potholes, 11.6ms\n",
            "image 15/222 /content/yolov5/Detection2-9/test/images/193_jpg.rf.4a8dc2c8319a482c4bed6198ec4c1d7d.jpg: 640x640 1 pothole, 10.0ms\n",
            "image 16/222 /content/yolov5/Detection2-9/test/images/194_jpg.rf.b39d2addbeb5bf31d63e5c1e35634607.jpg: 640x640 2 potholes, 9.7ms\n",
            "image 17/222 /content/yolov5/Detection2-9/test/images/206_jpg.rf.3755e7fb5cb084d8df16ee51496ba669.jpg: 640x640 1 pothole, 9.7ms\n",
            "image 18/222 /content/yolov5/Detection2-9/test/images/207_jpg.rf.8460a29da88aa8e8ec1030724bd11ca6.jpg: 640x640 1 pothole, 9.7ms\n",
            "image 19/222 /content/yolov5/Detection2-9/test/images/208_jpg.rf.c2b3d2dcc4036d6f02d8af602cdd2e2a.jpg: 640x640 5 potholes, 9.7ms\n",
            "image 20/222 /content/yolov5/Detection2-9/test/images/215_jpg.rf.7b2135c78deba1838f1acdd5ff3e54a2.jpg: 640x640 6 potholes, 9.7ms\n",
            "image 21/222 /content/yolov5/Detection2-9/test/images/21_jpg.rf.1bb1ec76f80384fd366c5f12898a32b7.jpg: 640x640 5 potholes, 9.7ms\n",
            "image 22/222 /content/yolov5/Detection2-9/test/images/221_jpg.rf.a88c6b26df62bc490b15b5cee9625d30.jpg: 640x640 1 pothole, 9.7ms\n",
            "image 23/222 /content/yolov5/Detection2-9/test/images/231_jpg.rf.f5b297dbf0aa45eab4a47275f0e660c5.jpg: 640x640 1 pothole, 9.7ms\n",
            "image 24/222 /content/yolov5/Detection2-9/test/images/235_jpg.rf.79fa243e10df036c61bfcc3f6a853a85.jpg: 640x640 5 potholes, 9.7ms\n",
            "image 25/222 /content/yolov5/Detection2-9/test/images/254_jpg.rf.60a5bd425f78313092e5a4e34e7839ae.jpg: 640x640 1 pothole, 8.1ms\n",
            "image 26/222 /content/yolov5/Detection2-9/test/images/26_jpg.rf.b90037c2665f0761ee3e7582db430b30.jpg: 640x640 2 potholes, 8.1ms\n",
            "image 27/222 /content/yolov5/Detection2-9/test/images/272_jpg.rf.367fb2725e35b702e7e927f007765cc3.jpg: 640x640 (no detections), 8.1ms\n",
            "image 28/222 /content/yolov5/Detection2-9/test/images/285_jpg.rf.eaa7bdbfe45bcd1334f786837fb07cda.jpg: 640x640 1 alligator-crack, 1 pothole, 8.1ms\n",
            "image 29/222 /content/yolov5/Detection2-9/test/images/293_jpg.rf.42421d0b9866d1d2e4ff821097e77cf5.jpg: 640x640 5 potholes, 8.1ms\n",
            "image 30/222 /content/yolov5/Detection2-9/test/images/29_jpg.rf.09c3126a17ca73fa39fc9cbb0fd3b763.jpg: 640x640 (no detections), 8.1ms\n",
            "image 31/222 /content/yolov5/Detection2-9/test/images/310_jpg.rf.5d79d108d5180af1eb046702955aef8d.jpg: 640x640 8 potholes, 8.1ms\n",
            "image 32/222 /content/yolov5/Detection2-9/test/images/314_jpg.rf.ae23efb261a9b9aa94043a9f2b8f8126.jpg: 640x640 17 potholes, 8.0ms\n",
            "image 33/222 /content/yolov5/Detection2-9/test/images/325_jpg.rf.cf487565efd501c9d94e8e869187e5dc.jpg: 640x640 3 potholes, 8.0ms\n",
            "image 34/222 /content/yolov5/Detection2-9/test/images/331_jpg.rf.9f301d6b7d713d80e50f041a2f69c979.jpg: 640x640 5 potholes, 8.0ms\n",
            "image 35/222 /content/yolov5/Detection2-9/test/images/334_jpg.rf.e1344cdba78ca8bd96cc44dc9a40d825.jpg: 640x640 1 pothole, 8.0ms\n",
            "image 36/222 /content/yolov5/Detection2-9/test/images/339_jpg.rf.9fbf595c7a7546899870b08e9c2651cd.jpg: 640x640 1 pothole, 7.6ms\n",
            "image 37/222 /content/yolov5/Detection2-9/test/images/34_jpg.rf.5c736ae732bcbe0a04aec71357737a8c.jpg: 640x640 1 pothole, 7.5ms\n",
            "image 38/222 /content/yolov5/Detection2-9/test/images/355_jpg.rf.136bcfc9dc972dc6e1bc323e18f810eb.jpg: 640x640 1 pothole, 7.5ms\n",
            "image 39/222 /content/yolov5/Detection2-9/test/images/359_jpg.rf.d869ee7fe6302306331fdedf9b5fad30.jpg: 640x640 4 potholes, 7.5ms\n",
            "image 40/222 /content/yolov5/Detection2-9/test/images/379_jpg.rf.6d83bb3239fc046f60e0b0867d8ac2fe.jpg: 640x640 3 potholes, 7.5ms\n",
            "image 41/222 /content/yolov5/Detection2-9/test/images/382_jpg.rf.a6fc48114a1954222638a2d6089396c3.jpg: 640x640 6 potholes, 7.5ms\n",
            "image 42/222 /content/yolov5/Detection2-9/test/images/392_jpg.rf.e2e04610dc6b1277366c9fb4eb8d061b.jpg: 640x640 (no detections), 7.4ms\n",
            "image 43/222 /content/yolov5/Detection2-9/test/images/397_jpg.rf.1389d932a41bafbcf2a3185b5f6d7453.jpg: 640x640 3 potholes, 7.4ms\n",
            "image 44/222 /content/yolov5/Detection2-9/test/images/411_jpg.rf.6b073228bfb145ecf817726e1598f8c8.jpg: 640x640 (no detections), 7.4ms\n",
            "image 45/222 /content/yolov5/Detection2-9/test/images/432_jpg.rf.03a899606735aebf53feaadc83d681c9.jpg: 640x640 11 potholes, 7.4ms\n",
            "image 46/222 /content/yolov5/Detection2-9/test/images/445_jpg.rf.6e0b209310a996a9f6a8d4085955f719.jpg: 640x640 1 pothole, 7.4ms\n",
            "image 47/222 /content/yolov5/Detection2-9/test/images/447_jpg.rf.6a9933144c0a086a642f0de8144570a3.jpg: 640x640 15 potholes, 7.1ms\n",
            "image 48/222 /content/yolov5/Detection2-9/test/images/464_jpg.rf.6c160b71b1cd0c5689eb3b5135098a6f.jpg: 640x640 1 pothole, 6.9ms\n",
            "image 49/222 /content/yolov5/Detection2-9/test/images/470_jpg.rf.6676a82e2f75df11aa18659d02bb2f74.jpg: 640x640 3 potholes, 6.9ms\n",
            "image 50/222 /content/yolov5/Detection2-9/test/images/482_jpg.rf.4420c00a4b3ec0c4e0dc1d4879541292.jpg: 640x640 1 pothole, 6.9ms\n",
            "image 51/222 /content/yolov5/Detection2-9/test/images/490_jpg.rf.3ea2f40ad025e16d3c3fe2f5a47d2853.jpg: 640x640 1 crack, 2 potholes, 6.9ms\n",
            "image 52/222 /content/yolov5/Detection2-9/test/images/491_jpg.rf.86fbae88bf245b80d48e2baaddcfcc76.jpg: 640x640 3 potholes, 6.9ms\n",
            "image 53/222 /content/yolov5/Detection2-9/test/images/520_jpg.rf.dd427627dc8c5b998d9e1f8abd1d69ef.jpg: 640x640 4 potholes, 6.9ms\n",
            "image 54/222 /content/yolov5/Detection2-9/test/images/521_jpg.rf.ee683ca057074635d36d61e285922c0f.jpg: 640x640 1 pothole, 6.8ms\n",
            "image 55/222 /content/yolov5/Detection2-9/test/images/522_jpg.rf.7eaee40b09a2d426a0604e80d3ebd6b8.jpg: 640x640 8 potholes, 6.8ms\n",
            "image 56/222 /content/yolov5/Detection2-9/test/images/526_jpg.rf.9fef18e503ec2748b6e739209352ea06.jpg: 640x640 10 potholes, 6.8ms\n",
            "image 57/222 /content/yolov5/Detection2-9/test/images/547_jpg.rf.5e2c42a8b65f033573da5785473ad3bf.jpg: 640x640 2 potholes, 6.8ms\n",
            "image 58/222 /content/yolov5/Detection2-9/test/images/559_jpg.rf.fb90accb6e4aa1f986f166cb96e0ea5f.jpg: 640x640 1 pothole, 6.8ms\n",
            "image 59/222 /content/yolov5/Detection2-9/test/images/564_jpg.rf.47cb8e89c0c447bfcd3d5dfca99ea7cf.jpg: 640x640 4 potholes, 6.8ms\n",
            "image 60/222 /content/yolov5/Detection2-9/test/images/568_jpg.rf.154803ff5c35dc732a26978c069fba56.jpg: 640x640 1 pothole, 6.8ms\n",
            "image 61/222 /content/yolov5/Detection2-9/test/images/56_jpg.rf.64ad3c014780324927e71b608248346e.jpg: 640x640 1 pothole, 6.8ms\n",
            "image 62/222 /content/yolov5/Detection2-9/test/images/574_jpg.rf.f7cd9deeca052bbf24f3b927cf5b152c.jpg: 640x640 1 pothole, 6.8ms\n",
            "image 63/222 /content/yolov5/Detection2-9/test/images/57_jpg.rf.bb39a3463e1cab3a51117652c7e3ee20.jpg: 640x640 1 pothole, 6.8ms\n",
            "image 64/222 /content/yolov5/Detection2-9/test/images/580_jpg.rf.1c5f543c6d9da215fce96b8b2181d744.jpg: 640x640 5 potholes, 8.1ms\n",
            "image 65/222 /content/yolov5/Detection2-9/test/images/58_jpg.rf.afe8f10d6e5972fa4263f6b34cefc420.jpg: 640x640 2 potholes, 6.7ms\n",
            "image 66/222 /content/yolov5/Detection2-9/test/images/70_jpg.rf.307c1bef7c6d10b62f8b38cae1b31bf4.jpg: 640x640 1 alligator-crack, 4 potholes, 6.7ms\n",
            "image 67/222 /content/yolov5/Detection2-9/test/images/72_jpg.rf.eae83761fa2be23594125e1131b0ec8a.jpg: 640x640 1 pothole, 6.7ms\n",
            "image 68/222 /content/yolov5/Detection2-9/test/images/73_jpg.rf.a1f1f4f7cfeaf6110706608a78cc0201.jpg: 640x640 2 potholes, 6.7ms\n",
            "image 69/222 /content/yolov5/Detection2-9/test/images/79_jpg.rf.4320b91a5bf79cda72dad79367194411.jpg: 640x640 13 potholes, 6.7ms\n",
            "image 70/222 /content/yolov5/Detection2-9/test/images/87_jpg.rf.e9c966dd065534948de5196defd034bd.jpg: 640x640 2 potholes, 6.7ms\n",
            "image 71/222 /content/yolov5/Detection2-9/test/images/89_jpg.rf.1d367728d7749f77b4ffb280966d2e6d.jpg: 640x640 1 alligator-crack, 1 pothole, 6.7ms\n",
            "image 72/222 /content/yolov5/Detection2-9/test/images/99_jpg.rf.e9f0200ed1b11410805e6e92d29f22ee.jpg: 640x640 3 cracks, 1 pothole, 6.7ms\n",
            "image 73/222 /content/yolov5/Detection2-9/test/images/IMG_20230513_213532_jpg.rf.bd074955cf9d74b0f887e17e51b24249.jpg: 640x640 (no detections), 6.7ms\n",
            "image 74/222 /content/yolov5/Detection2-9/test/images/IMG_20230513_213653_jpg.rf.00c13393245ec9eec1520b2d47978c6f.jpg: 640x640 1 pothole, 6.7ms\n",
            "image 75/222 /content/yolov5/Detection2-9/test/images/IMG_20230513_213720_jpg.rf.c04c0f7748eed2a2934cb4865d8b3a5a.jpg: 640x640 (no detections), 6.7ms\n",
            "image 76/222 /content/yolov5/Detection2-9/test/images/IMG_20230513_213905_jpg.rf.25f9d59e44efc22249732c4d4864630f.jpg: 640x640 (no detections), 6.7ms\n",
            "image 77/222 /content/yolov5/Detection2-9/test/images/IMG_20230513_213917_jpg.rf.a5fb81ffc606986a85c2f962ef66f4ee.jpg: 640x640 3 cracks, 6.7ms\n",
            "image 78/222 /content/yolov5/Detection2-9/test/images/IMG_20230513_213947_jpg.rf.97d0ad1e95f32b4d7dc639bc276244f1.jpg: 640x640 1 crack, 6.7ms\n",
            "image 79/222 /content/yolov5/Detection2-9/test/images/IMG_20230513_214109_jpg.rf.cbd76aa33f5dfa73722718b1f2c35b1f.jpg: 640x640 (no detections), 6.7ms\n",
            "image 80/222 /content/yolov5/Detection2-9/test/images/IMG_20230513_214535_jpg.rf.f69280e5e004778a85016f060123ef29.jpg: 640x640 1 alligator-crack, 6.7ms\n",
            "image 81/222 /content/yolov5/Detection2-9/test/images/IMG_20230513_214540_jpg.rf.3d276abfe36a8829f37bd5280933df53.jpg: 640x640 (no detections), 6.6ms\n",
            "image 82/222 /content/yolov5/Detection2-9/test/images/IMG_20230513_214556_jpg.rf.b3ed740830de8a23beeb471c1e6ed4ba.jpg: 640x640 1 crack, 1 pothole, 6.6ms\n",
            "image 83/222 /content/yolov5/Detection2-9/test/images/IMG_20230513_214619_jpg.rf.a4110b7deee1c3dca7af733a6eb85acb.jpg: 640x640 (no detections), 6.6ms\n",
            "image 84/222 /content/yolov5/Detection2-9/test/images/IMG_20230513_214712_jpg.rf.3587230acafae4e85c32bae32244826c.jpg: 640x640 1 crack, 6.6ms\n",
            "image 85/222 /content/yolov5/Detection2-9/test/images/IMG_20230513_214931_jpg.rf.8ef15fc2f95d374d9fa7ac3f81a33e36.jpg: 640x640 (no detections), 6.6ms\n",
            "image 86/222 /content/yolov5/Detection2-9/test/images/IMG_20230513_214936_jpg.rf.4c21e6b077375209f112d9b8d508c358.jpg: 640x640 (no detections), 6.5ms\n",
            "image 87/222 /content/yolov5/Detection2-9/test/images/IMG_20230513_214945_jpg.rf.2c0be5cc91727cc16dd785ba0f7e01b0.jpg: 640x640 (no detections), 6.5ms\n",
            "image 88/222 /content/yolov5/Detection2-9/test/images/IMG_20230513_214948_jpg.rf.5afd36eb5fe1b00119e578bf8ee439db.jpg: 640x640 (no detections), 6.5ms\n",
            "image 89/222 /content/yolov5/Detection2-9/test/images/IMG_20230513_215147_jpg.rf.ec4c536c215fb884a77d687cefb18f62.jpg: 640x640 (no detections), 6.5ms\n",
            "image 90/222 /content/yolov5/Detection2-9/test/images/IMG_20230513_215255_jpg.rf.1ebcbb2cdb0c9a31f57890093c10be3a.jpg: 640x640 1 alligator-crack, 6.5ms\n",
            "image 91/222 /content/yolov5/Detection2-9/test/images/IMG_20230513_215359_jpg.rf.a8b85cadbf80ea940108a4d3f98e89c7.jpg: 640x640 1 pothole, 6.5ms\n",
            "image 92/222 /content/yolov5/Detection2-9/test/images/IMG_20230513_215416_jpg.rf.f3da596597b9e204300770d8c995b04d.jpg: 640x640 (no detections), 6.5ms\n",
            "image 93/222 /content/yolov5/Detection2-9/test/images/IMG_20230513_215454_jpg.rf.2c199f5522c264e11a345c5db1e90240.jpg: 640x640 (no detections), 6.5ms\n",
            "image 94/222 /content/yolov5/Detection2-9/test/images/IMG_20230513_215528_jpg.rf.9732a768d613a1ed4d346e62a4f11113.jpg: 640x640 1 crack, 6.5ms\n",
            "image 95/222 /content/yolov5/Detection2-9/test/images/IMG_20230513_215540_jpg.rf.994d2b1a8f225c2d4d8fb1849bc78b83.jpg: 640x640 (no detections), 7.7ms\n",
            "image 96/222 /content/yolov5/Detection2-9/test/images/IMG_20230513_215626_jpg.rf.91cfd180ca4b39054e40101da524de19.jpg: 640x640 2 potholes, 6.0ms\n",
            "image 97/222 /content/yolov5/Detection2-9/test/images/IMG_20230513_215749_jpg.rf.0d1e411786da117bafe81992c2eb7579.jpg: 640x640 1 alligator-crack, 6.0ms\n",
            "image 98/222 /content/yolov5/Detection2-9/test/images/IMG_20230513_215817_jpg.rf.7d8eef28d92985a9e1659c2788087ce9.jpg: 640x640 1 crack, 6.0ms\n",
            "image 99/222 /content/yolov5/Detection2-9/test/images/IMG_20230513_215846_jpg.rf.3395793910c39cac976e3260bb733377.jpg: 640x640 1 alligator-crack, 6.0ms\n",
            "image 100/222 /content/yolov5/Detection2-9/test/images/IMG_20230513_215905_jpg.rf.5cf37cd91f375f0d3b54d8c69ec2cfb8.jpg: 640x640 1 alligator-crack, 1 crack, 6.0ms\n",
            "image 101/222 /content/yolov5/Detection2-9/test/images/IMG_20230513_215957_jpg.rf.021a431f798acf0a4b0b4909745974fc.jpg: 640x640 1 pothole, 7.7ms\n",
            "image 102/222 /content/yolov5/Detection2-9/test/images/IMG_20230513_220019_jpg.rf.e4a22d077b17e9884571844f9224477a.jpg: 640x640 (no detections), 6.0ms\n",
            "image 103/222 /content/yolov5/Detection2-9/test/images/IMG_20230513_220041_jpg.rf.ab1160e34bea590771f90587ddcbe0e9.jpg: 640x640 (no detections), 5.9ms\n",
            "image 104/222 /content/yolov5/Detection2-9/test/images/IMG_20230513_220244_jpg.rf.8d34d92c1d63eb1d15aa8f9c5819acb0.jpg: 640x640 1 alligator-crack, 5.9ms\n",
            "image 105/222 /content/yolov5/Detection2-9/test/images/IMG_20230513_220630_jpg.rf.dcb033dc2d2dded6190cfbef4c2981c9.jpg: 640x640 1 pothole, 5.9ms\n",
            "image 106/222 /content/yolov5/Detection2-9/test/images/IMG_20230517_143545_jpg.rf.b881c82886010ef3ca226f2a8bdd62e0.jpg: 640x640 (no detections), 5.9ms\n",
            "image 107/222 /content/yolov5/Detection2-9/test/images/IMG_20230517_143615_jpg.rf.47ce3503b1e7f1d0accfde365126c387.jpg: 640x640 (no detections), 5.9ms\n",
            "image 108/222 /content/yolov5/Detection2-9/test/images/IMG_20230517_143637_jpg.rf.0a6dbdf4092031a0bd9f882dde4f7d57.jpg: 640x640 (no detections), 5.9ms\n",
            "image 109/222 /content/yolov5/Detection2-9/test/images/IMG_20230517_143713_jpg.rf.d5f390a4dffe1c857718b0a21e677df7.jpg: 640x640 (no detections), 5.9ms\n",
            "image 110/222 /content/yolov5/Detection2-9/test/images/IMG_20230517_144003_jpg.rf.7044f9816259c73d0bf8002928723ee6.jpg: 640x640 (no detections), 5.9ms\n",
            "image 111/222 /content/yolov5/Detection2-9/test/images/IMG_20230517_144243_jpg.rf.c53233073b16b4a3e54ebbd030ee5385.jpg: 640x640 (no detections), 5.9ms\n",
            "image 112/222 /content/yolov5/Detection2-9/test/images/IMG_20230517_144311_jpg.rf.c9d0a3ef9e41f5703e5dca51d80045f7.jpg: 640x640 (no detections), 5.9ms\n",
            "image 113/222 /content/yolov5/Detection2-9/test/images/IMG_20230517_144352_jpg.rf.884822bfedf9dc53619c67c0b5c6d5c6.jpg: 640x640 (no detections), 5.9ms\n",
            "image 114/222 /content/yolov5/Detection2-9/test/images/IMG_20230517_144353_jpg.rf.0daeb1edc5f0312f89944aca43026cd0.jpg: 640x640 (no detections), 5.9ms\n",
            "image 115/222 /content/yolov5/Detection2-9/test/images/IMG_20230518_155036_jpg.rf.705d7c5a8a3856491b82586cba91c857.jpg: 640x640 (no detections), 5.9ms\n",
            "image 116/222 /content/yolov5/Detection2-9/test/images/IMG_20230518_155111_jpg.rf.5ca88c76b0f126dbd1c633a1750410a3.jpg: 640x640 (no detections), 5.9ms\n",
            "image 117/222 /content/yolov5/Detection2-9/test/images/IMG_20230518_155146_jpg.rf.f14afc765d0c58849d8344f61d0b7c54.jpg: 640x640 (no detections), 5.9ms\n",
            "image 118/222 /content/yolov5/Detection2-9/test/images/img-10-_jpg.rf.54d097f9acc5330d39754a92c8983e6d.jpg: 640x640 (no detections), 6.0ms\n",
            "image 119/222 /content/yolov5/Detection2-9/test/images/img-104-_jpg.rf.c74f960ebe9c51f554b8924db8e9ca21.jpg: 640x640 1 pothole, 5.9ms\n",
            "image 120/222 /content/yolov5/Detection2-9/test/images/img-106-_jpg.rf.3ae510a0ea71acf497d5b8e450555601.jpg: 640x640 2 cracks, 5.9ms\n",
            "image 121/222 /content/yolov5/Detection2-9/test/images/img-114-_jpg.rf.e9afe7ace6ffa25c5ecfa05aef76eeec.jpg: 640x640 2 potholes, 5.9ms\n",
            "image 122/222 /content/yolov5/Detection2-9/test/images/img-115-_jpg.rf.ca022d0ec7164569ac25ba2bd1b7efa6.jpg: 640x640 1 pothole, 8.0ms\n",
            "image 123/222 /content/yolov5/Detection2-9/test/images/img-122-_jpg.rf.a7b2b52186cadc47038a0ba886037ce0.jpg: 640x640 2 potholes, 5.5ms\n",
            "image 124/222 /content/yolov5/Detection2-9/test/images/img-125-_jpg.rf.989b9a2ec7260a260800491ce089f4ea.jpg: 640x640 1 pothole, 5.5ms\n",
            "image 125/222 /content/yolov5/Detection2-9/test/images/img-140-_jpg.rf.15aa5c5cf27e363798f45bddf2dbe11f.jpg: 640x640 (no detections), 5.5ms\n",
            "image 126/222 /content/yolov5/Detection2-9/test/images/img-15-_jpg.rf.b47e59513ac32bee51175bf4523ac017.jpg: 640x640 2 potholes, 5.5ms\n",
            "image 127/222 /content/yolov5/Detection2-9/test/images/img-157-_jpg.rf.342e8c9997e8fec2e5c5d1eda160f3ac.jpg: 640x640 2 cracks, 5.6ms\n",
            "image 128/222 /content/yolov5/Detection2-9/test/images/img-165-_jpg.rf.adfd7ecafa03cca05b4f5c6a860cb27c.jpg: 640x640 (no detections), 5.5ms\n",
            "image 129/222 /content/yolov5/Detection2-9/test/images/img-168-_jpg.rf.c5c35f63b0287e40f61bacd6a4db0801.jpg: 640x640 (no detections), 5.5ms\n",
            "image 130/222 /content/yolov5/Detection2-9/test/images/img-173-_jpg.rf.ceaf57559df6cc34270ccdeeba75cce0.jpg: 640x640 1 crack, 5.6ms\n",
            "image 131/222 /content/yolov5/Detection2-9/test/images/img-177-_jpg.rf.ae9243634867ccd440402bff2e165d0c.jpg: 640x640 1 crack, 2 potholes, 6.8ms\n",
            "image 132/222 /content/yolov5/Detection2-9/test/images/img-18-_jpg.rf.2b8d54aa5fb9b67d28b3169cdc8c367f.jpg: 640x640 1 crack, 3 potholes, 5.5ms\n",
            "image 133/222 /content/yolov5/Detection2-9/test/images/img-184-_jpg.rf.bd99bfcaa476bac0ea3ad5316e29401b.jpg: 640x640 (no detections), 5.6ms\n",
            "image 134/222 /content/yolov5/Detection2-9/test/images/img-189-_jpg.rf.3dedbf12feddb5eb24d8c0b988999f61.jpg: 640x640 (no detections), 5.6ms\n",
            "image 135/222 /content/yolov5/Detection2-9/test/images/img-193-_jpg.rf.1622be779ffb921c295bf1442ae54421.jpg: 640x640 (no detections), 5.5ms\n",
            "image 136/222 /content/yolov5/Detection2-9/test/images/img-2-_jpg.rf.6667343522623a8a6242ae7c91746510.jpg: 640x640 10 potholes, 5.6ms\n",
            "image 137/222 /content/yolov5/Detection2-9/test/images/img-20-_jpg.rf.acfdaa90a98b14a2a2044edd0f1745f4.jpg: 640x640 1 crack, 1 pothole, 5.5ms\n",
            "image 138/222 /content/yolov5/Detection2-9/test/images/img-208-_jpg.rf.c22c0cddb1f36117722fc957e7260c39.jpg: 640x640 (no detections), 5.5ms\n",
            "image 139/222 /content/yolov5/Detection2-9/test/images/img-213-_jpg.rf.bde6a37d9640b7f1961dd90fbaa344ce.jpg: 640x640 1 pothole, 5.5ms\n",
            "image 140/222 /content/yolov5/Detection2-9/test/images/img-226-_jpg.rf.1fddb5aa0cf1c5c010d3a7e2b14dd4bf.jpg: 640x640 1 crack, 5.5ms\n",
            "image 141/222 /content/yolov5/Detection2-9/test/images/img-233-_jpg.rf.6385942e86afa850910643be1933da98.jpg: 640x640 (no detections), 5.5ms\n",
            "image 142/222 /content/yolov5/Detection2-9/test/images/img-238-_jpg.rf.0c94bbeb594eb0b7ad17b6292042f3eb.jpg: 640x640 12 potholes, 5.5ms\n",
            "image 143/222 /content/yolov5/Detection2-9/test/images/img-239-_jpg.rf.31691a34f35b659281af08d8646038d6.jpg: 640x640 5 potholes, 5.5ms\n",
            "image 144/222 /content/yolov5/Detection2-9/test/images/img-242-_jpg.rf.7bc47ba811e41072bf84fba79ac200e6.jpg: 640x640 (no detections), 5.5ms\n",
            "image 145/222 /content/yolov5/Detection2-9/test/images/img-243-_jpg.rf.2770428e24fcba3155bee1e5dc818329.jpg: 640x640 (no detections), 5.5ms\n",
            "image 146/222 /content/yolov5/Detection2-9/test/images/img-244-_jpg.rf.7565f42e2be6861de693dd32f3d20a37.jpg: 640x640 4 potholes, 5.5ms\n",
            "image 147/222 /content/yolov5/Detection2-9/test/images/img-245-_jpg.rf.3562fd54d587a9c18b28836732f8fd95.jpg: 640x640 1 pothole, 5.5ms\n",
            "image 148/222 /content/yolov5/Detection2-9/test/images/img-249-_jpg.rf.2eb64b44be2d9f37f05ad84853b17ac4.jpg: 640x640 (no detections), 5.5ms\n",
            "image 149/222 /content/yolov5/Detection2-9/test/images/img-249-_jpg.rf.36d6d13881e6353d4664f90f22d06ef8.jpg: 640x640 4 potholes, 5.5ms\n",
            "image 150/222 /content/yolov5/Detection2-9/test/images/img-250-_jpg.rf.fc6d6034dd8f53ada45f603d858e2f48.jpg: 640x640 1 pothole, 5.5ms\n",
            "image 151/222 /content/yolov5/Detection2-9/test/images/img-251-_jpg.rf.ed7eb09d3f1520ae5ac4c3bbeb114cb6.jpg: 640x640 3 potholes, 5.5ms\n",
            "image 152/222 /content/yolov5/Detection2-9/test/images/img-252-_jpg.rf.c2aaf5f0312559caac7bbc7ce64590cb.jpg: 640x640 (no detections), 5.5ms\n",
            "image 153/222 /content/yolov5/Detection2-9/test/images/img-26-_jpg.rf.7b405affb71d6abc026ece47b7cacc8f.jpg: 640x640 1 pothole, 5.5ms\n",
            "image 154/222 /content/yolov5/Detection2-9/test/images/img-264-_jpg.rf.37c4aa3e10adac440383ff603daf5ec1.jpg: 640x640 5 potholes, 5.6ms\n",
            "image 155/222 /content/yolov5/Detection2-9/test/images/img-265-_jpg.rf.0ac6d32ab448f90b9bc907cd1cf8dcab.jpg: 640x640 1 crack, 5.5ms\n",
            "image 156/222 /content/yolov5/Detection2-9/test/images/img-266-_jpg.rf.22ef697b86d2aa25aa8c8fcba14f74a3.jpg: 640x640 1 pothole, 5.5ms\n",
            "image 157/222 /content/yolov5/Detection2-9/test/images/img-266-_jpg.rf.f4e3246d4183fe29478fc471cc5c02fa.jpg: 640x640 (no detections), 5.5ms\n",
            "image 158/222 /content/yolov5/Detection2-9/test/images/img-271-_jpg.rf.fe093f8cfed04d15ec2d1979925ee303.jpg: 640x640 1 crack, 5.6ms\n",
            "image 159/222 /content/yolov5/Detection2-9/test/images/img-279-_jpg.rf.9f8afad02c2a12b59de53be9277f2e3e.jpg: 640x640 1 pothole, 5.5ms\n",
            "image 160/222 /content/yolov5/Detection2-9/test/images/img-280-_jpg.rf.9d73b70a68cd610df0db5d7494ef8fff.jpg: 640x640 3 potholes, 5.6ms\n",
            "image 161/222 /content/yolov5/Detection2-9/test/images/img-282-_jpg.rf.e503d8d48a232c67d0d19adfa74b6b62.jpg: 640x640 (no detections), 5.6ms\n",
            "image 162/222 /content/yolov5/Detection2-9/test/images/img-288-_jpg.rf.31ee941dc977f95c27d4e7c427aed590.jpg: 640x640 (no detections), 5.6ms\n",
            "image 163/222 /content/yolov5/Detection2-9/test/images/img-294-_jpg.rf.9f2935fe0dad1ad1899c59d57d2bbb56.jpg: 640x640 (no detections), 6.2ms\n",
            "image 164/222 /content/yolov5/Detection2-9/test/images/img-30-_jpg.rf.5acaf98dbcd30cac363b75ebd92b5d31.jpg: 640x640 6 potholes, 5.5ms\n",
            "image 165/222 /content/yolov5/Detection2-9/test/images/img-300-_jpg.rf.342959daf7d84605ff8e1b367f1f804e.jpg: 640x640 (no detections), 5.6ms\n",
            "image 166/222 /content/yolov5/Detection2-9/test/images/img-301-_jpg.rf.2d1aebc6aa9b42a3c04615575400eb78.jpg: 640x640 2 potholes, 5.6ms\n",
            "image 167/222 /content/yolov5/Detection2-9/test/images/img-302-_jpg.rf.817f884129c0ccf04646cea6382c9367.jpg: 640x640 (no detections), 5.6ms\n",
            "image 168/222 /content/yolov5/Detection2-9/test/images/img-305-_jpg.rf.94d74980b66c2ddecee6856934e1c2b1.jpg: 640x640 (no detections), 5.6ms\n",
            "image 169/222 /content/yolov5/Detection2-9/test/images/img-308-_jpg.rf.cc64c4d678c9cd5aeb8d74574707a9d8.jpg: 640x640 (no detections), 5.5ms\n",
            "image 170/222 /content/yolov5/Detection2-9/test/images/img-309-_jpg.rf.0e04ada25fde4a4cb9180ba4c654301a.jpg: 640x640 3 potholes, 5.6ms\n",
            "image 171/222 /content/yolov5/Detection2-9/test/images/img-315-_jpg.rf.8156a3dfdbd41ad91526b9ff174a9514.jpg: 640x640 (no detections), 5.6ms\n",
            "image 172/222 /content/yolov5/Detection2-9/test/images/img-322-_jpg.rf.c63ef727e1caffdfefa0212fd8ab8ddf.jpg: 640x640 3 cracks, 5.5ms\n",
            "image 173/222 /content/yolov5/Detection2-9/test/images/img-324-_jpg.rf.365a77ad9582d951890285601d47aa58.jpg: 640x640 4 potholes, 5.5ms\n",
            "image 174/222 /content/yolov5/Detection2-9/test/images/img-328-_jpg.rf.1d95a10a0960f75eb577a9672e3f9ea3.jpg: 640x640 (no detections), 5.6ms\n",
            "image 175/222 /content/yolov5/Detection2-9/test/images/img-331-_jpg.rf.6e1b00b4e4a53a616ac2c836712e1476.jpg: 640x640 (no detections), 5.5ms\n",
            "image 176/222 /content/yolov5/Detection2-9/test/images/img-337-_jpg.rf.3190c50c4798b34461b5a0b8164a03e9.jpg: 640x640 (no detections), 5.6ms\n",
            "image 177/222 /content/yolov5/Detection2-9/test/images/img-34-_jpg.rf.d94c12457f677418e58f47a70f9eb9dc.jpg: 640x640 (no detections), 5.5ms\n",
            "image 178/222 /content/yolov5/Detection2-9/test/images/img-343-_jpg.rf.07d98385a57ea4e48d5707fb8d12e2f5.jpg: 640x640 1 pothole, 5.6ms\n",
            "image 179/222 /content/yolov5/Detection2-9/test/images/img-344-_jpg.rf.951b52bc519abbe9c3fa7f6910ab0195.jpg: 640x640 (no detections), 5.5ms\n",
            "image 180/222 /content/yolov5/Detection2-9/test/images/img-359-_jpg.rf.87f2d3b3968eda9b4be98a6df3654e93.jpg: 640x640 (no detections), 5.6ms\n",
            "image 181/222 /content/yolov5/Detection2-9/test/images/img-370-_jpg.rf.dd9c50d5ae1f5366c9477d6184a3780d.jpg: 640x640 (no detections), 5.7ms\n",
            "image 182/222 /content/yolov5/Detection2-9/test/images/img-373-_jpg.rf.c91bbd2ed5cb5333609bb787b6fd01d1.jpg: 640x640 1 crack, 2 potholes, 5.6ms\n",
            "image 183/222 /content/yolov5/Detection2-9/test/images/img-380-_jpg.rf.b1f5700d296ee298b9d812e42a54af26.jpg: 640x640 7 potholes, 5.5ms\n",
            "image 184/222 /content/yolov5/Detection2-9/test/images/img-385-_jpg.rf.d90f144793615f5d76a12152c86bf649.jpg: 640x640 1 pothole, 6.8ms\n",
            "image 185/222 /content/yolov5/Detection2-9/test/images/img-386-_jpg.rf.60cca30f68fe1009b3b1ff24870d5f66.jpg: 640x640 (no detections), 5.6ms\n",
            "image 186/222 /content/yolov5/Detection2-9/test/images/img-389-_jpg.rf.baca6245a9284660453802695814b21c.jpg: 640x640 1 crack, 6.9ms\n",
            "image 187/222 /content/yolov5/Detection2-9/test/images/img-394-_jpg.rf.1e98a98988eb0de968c69b1feaeeadb6.jpg: 640x640 5 potholes, 5.5ms\n",
            "image 188/222 /content/yolov5/Detection2-9/test/images/img-40-_jpg.rf.3a141720fcb7948e10bf2fec7b3fa646.jpg: 640x640 (no detections), 5.5ms\n",
            "image 189/222 /content/yolov5/Detection2-9/test/images/img-400-_jpg.rf.d7e7ff2ae5a9de13c2473f8a3e490dd5.jpg: 640x640 3 potholes, 5.5ms\n",
            "image 190/222 /content/yolov5/Detection2-9/test/images/img-401-_jpg.rf.0cbcc6eb36ec9172bde7e8505e0fbff9.jpg: 640x640 (no detections), 5.6ms\n",
            "image 191/222 /content/yolov5/Detection2-9/test/images/img-416-_jpg.rf.169ef79ff60d20f13bcc6e5a12b2bbc2.jpg: 640x640 2 potholes, 5.5ms\n",
            "image 192/222 /content/yolov5/Detection2-9/test/images/img-417-_jpg.rf.f3c71fbf2c734e605a0572531da0271a.jpg: 640x640 2 potholes, 5.5ms\n",
            "image 193/222 /content/yolov5/Detection2-9/test/images/img-424-_jpg.rf.921a3450228fc330c0ee1f847fa27b5c.jpg: 640x640 1 pothole, 5.5ms\n",
            "image 194/222 /content/yolov5/Detection2-9/test/images/img-428-_jpg.rf.86264891a4779151a206cb0bb43c73c3.jpg: 640x640 1 pothole, 5.5ms\n",
            "image 195/222 /content/yolov5/Detection2-9/test/images/img-429-_jpg.rf.f103b022c1b8d07a3517dfcdff7570e0.jpg: 640x640 (no detections), 5.5ms\n",
            "image 196/222 /content/yolov5/Detection2-9/test/images/img-432-_jpg.rf.df97e6c6720b257ac4d321b257530b62.jpg: 640x640 1 pothole, 5.5ms\n",
            "image 197/222 /content/yolov5/Detection2-9/test/images/img-44-_jpg.rf.1c221943b063af44a66ffd480511d3f7.jpg: 640x640 (no detections), 5.6ms\n",
            "image 198/222 /content/yolov5/Detection2-9/test/images/img-474-_jpg.rf.2cf37ab61877be3b357dca07f99110fe.jpg: 640x640 1 pothole, 6.8ms\n",
            "image 199/222 /content/yolov5/Detection2-9/test/images/img-476-_jpg.rf.76d3ff158bca593a6abb8ac56d89d989.jpg: 640x640 (no detections), 8.8ms\n",
            "image 200/222 /content/yolov5/Detection2-9/test/images/img-516-_jpg.rf.05508520c4f520b1611d41f41c09aeef.jpg: 640x640 (no detections), 6.4ms\n",
            "image 201/222 /content/yolov5/Detection2-9/test/images/img-517-_jpg.rf.595989bff16414f7e5010722384c7655.jpg: 640x640 (no detections), 5.5ms\n",
            "image 202/222 /content/yolov5/Detection2-9/test/images/img-520-_jpg.rf.e92f9b6578505ca43d2a9fcdc40b365c.jpg: 640x640 (no detections), 6.0ms\n",
            "image 203/222 /content/yolov5/Detection2-9/test/images/img-522-_jpg.rf.9b7b25e689695bfb518963924a3575d3.jpg: 640x640 (no detections), 5.6ms\n",
            "image 204/222 /content/yolov5/Detection2-9/test/images/img-571-_jpg.rf.d882cc60bab03ba712942d27819af087.jpg: 640x640 1 crack, 1 pothole, 5.6ms\n",
            "image 205/222 /content/yolov5/Detection2-9/test/images/img-59-_jpg.rf.22b3cd4d0c334305c3a74be16ca80ced.jpg: 640x640 1 pothole, 5.6ms\n",
            "image 206/222 /content/yolov5/Detection2-9/test/images/img-60-_jpg.rf.09b16eea02cc2cbb0ea77084a8056c0b.jpg: 640x640 1 pothole, 5.6ms\n",
            "image 207/222 /content/yolov5/Detection2-9/test/images/img-61-_jpg.rf.bc623e9a6f038ad44bac8cf406c811d1.jpg: 640x640 1 pothole, 5.5ms\n",
            "image 208/222 /content/yolov5/Detection2-9/test/images/img-612-_jpg.rf.2768e1226aacac17573604ab166f568e.jpg: 640x640 12 potholes, 5.5ms\n",
            "image 209/222 /content/yolov5/Detection2-9/test/images/img-622-_jpg.rf.610da7266f5aecef4fc9923002e5cb50.jpg: 640x640 2 potholes, 5.6ms\n",
            "image 210/222 /content/yolov5/Detection2-9/test/images/img-639-_jpg.rf.0d444d7a1e8564d3454639cdeb3338ba.jpg: 640x640 8 potholes, 5.6ms\n",
            "image 211/222 /content/yolov5/Detection2-9/test/images/img-654-_jpg.rf.e05902492ee6a167e265f1863014c642.jpg: 640x640 5 potholes, 5.6ms\n",
            "image 212/222 /content/yolov5/Detection2-9/test/images/img-70-_jpg.rf.33417407f5181405253dcbe2e1562d3c.jpg: 640x640 1 pothole, 5.5ms\n",
            "image 213/222 /content/yolov5/Detection2-9/test/images/img-734-_jpg.rf.a811d5a85c11b2e9cda5a927f955fdcc.jpg: 640x640 1 crack, 2 potholes, 5.6ms\n",
            "image 214/222 /content/yolov5/Detection2-9/test/images/img-74-_jpg.rf.e7ab50397e6d4d9142f70626001d4dd8.jpg: 640x640 2 potholes, 5.6ms\n",
            "image 215/222 /content/yolov5/Detection2-9/test/images/img-80-_jpg.rf.370b49a336590a6333b64c847e2c2d0b.jpg: 640x640 1 pothole, 5.5ms\n",
            "image 216/222 /content/yolov5/Detection2-9/test/images/img-809-_jpg.rf.fc6c8e0ad28c515b566002a3a880833e.jpg: 640x640 (no detections), 5.6ms\n",
            "image 217/222 /content/yolov5/Detection2-9/test/images/img-84-_jpg.rf.82cffc81056a38ce7c99f259b2d98e86.jpg: 640x640 3 potholes, 5.5ms\n",
            "image 218/222 /content/yolov5/Detection2-9/test/images/img-85-_jpg.rf.344cdfead2c053658c8c261347eb9cea.jpg: 640x640 1 alligator-crack, 5.6ms\n",
            "image 219/222 /content/yolov5/Detection2-9/test/images/img-89-_jpg.rf.1afa7af0861a671f61b59a01df32c3db.jpg: 640x640 3 cracks, 5.5ms\n",
            "image 220/222 /content/yolov5/Detection2-9/test/images/img-95-_jpg.rf.08334763bda42061a670b3470a54cc1c.jpg: 640x640 (no detections), 5.5ms\n",
            "image 221/222 /content/yolov5/Detection2-9/test/images/img-97-_jpg.rf.6a165f5c4671709945b9aae2598e620b.jpg: 640x640 1 crack, 5.5ms\n",
            "image 222/222 /content/yolov5/Detection2-9/test/images/img-980-_jpg.rf.b6bf2d49aaa802252ff98328214034dc.jpg: 640x640 (no detections), 5.5ms\n",
            "Speed: 0.5ms pre-process, 6.7ms inference, 1.0ms NMS per image at shape (1, 3, 640, 640)\n",
            "Results saved to \u001b[1mruns/detect/exp9\u001b[0m\n"
          ]
        }
      ],
      "source": [
        "!python detect.py --weights runs/train/exp4/weights/best.pt --source Detection2-9/test/images/"
      ]
    },
    {
      "cell_type": "code",
      "execution_count": null,
      "metadata": {
        "colab": {
          "base_uri": "https://localhost:8080/"
        },
        "id": "LyynKJ7OybOx",
        "outputId": "f2aac41c-604b-45ae-db11-760360b848b0"
      },
      "outputs": [
        {
          "name": "stdout",
          "output_type": "stream",
          "text": [
            "\u001b[34m\u001b[1mdetect: \u001b[0mweights=['runs/train/exp4/weights/best.pt'], source=TV2.mp4, data=data/coco128.yaml, imgsz=[640, 640], conf_thres=0.25, iou_thres=0.45, max_det=1000, device=, view_img=False, save_txt=False, save_conf=False, save_crop=False, nosave=False, classes=None, agnostic_nms=False, augment=False, visualize=False, update=False, project=runs/detect, name=exp, exist_ok=False, line_thickness=3, hide_labels=False, hide_conf=False, half=False, dnn=False, vid_stride=1\n",
            "YOLOv5 🚀 v7.0-177-g89c3040 Python-3.10.11 torch-2.0.1+cu118 CUDA:0 (Tesla T4, 15102MiB)\n",
            "\n",
            "Fusing layers... \n",
            "Model summary: 157 layers, 7018216 parameters, 0 gradients, 15.8 GFLOPs\n",
            "video 1/1 (1/194) /content/yolov5/TV2.mp4: 640x384 1 alligator-crack, 1 pothole, 43.1ms\n",
            "video 1/1 (2/194) /content/yolov5/TV2.mp4: 640x384 3 alligator-cracks, 1 pothole, 7.9ms\n",
            "video 1/1 (3/194) /content/yolov5/TV2.mp4: 640x384 2 alligator-cracks, 1 pothole, 8.3ms\n",
            "video 1/1 (4/194) /content/yolov5/TV2.mp4: 640x384 1 alligator-crack, 1 pothole, 7.9ms\n",
            "video 1/1 (5/194) /content/yolov5/TV2.mp4: 640x384 (no detections), 8.1ms\n",
            "video 1/1 (6/194) /content/yolov5/TV2.mp4: 640x384 1 alligator-crack, 7.7ms\n",
            "video 1/1 (7/194) /content/yolov5/TV2.mp4: 640x384 1 alligator-crack, 8.3ms\n",
            "video 1/1 (8/194) /content/yolov5/TV2.mp4: 640x384 1 alligator-crack, 1 pothole, 8.3ms\n",
            "video 1/1 (9/194) /content/yolov5/TV2.mp4: 640x384 2 alligator-cracks, 7.7ms\n",
            "video 1/1 (10/194) /content/yolov5/TV2.mp4: 640x384 1 alligator-crack, 1 pothole, 7.8ms\n",
            "video 1/1 (11/194) /content/yolov5/TV2.mp4: 640x384 1 alligator-crack, 1 pothole, 9.0ms\n",
            "video 1/1 (12/194) /content/yolov5/TV2.mp4: 640x384 1 alligator-crack, 1 pothole, 7.7ms\n",
            "video 1/1 (13/194) /content/yolov5/TV2.mp4: 640x384 1 alligator-crack, 1 pothole, 7.7ms\n",
            "video 1/1 (14/194) /content/yolov5/TV2.mp4: 640x384 1 alligator-crack, 1 pothole, 7.9ms\n",
            "video 1/1 (15/194) /content/yolov5/TV2.mp4: 640x384 1 alligator-crack, 1 pothole, 7.9ms\n",
            "video 1/1 (16/194) /content/yolov5/TV2.mp4: 640x384 1 pothole, 7.7ms\n",
            "video 1/1 (17/194) /content/yolov5/TV2.mp4: 640x384 3 alligator-cracks, 1 pothole, 7.8ms\n",
            "video 1/1 (18/194) /content/yolov5/TV2.mp4: 640x384 1 alligator-crack, 1 pothole, 8.0ms\n",
            "video 1/1 (19/194) /content/yolov5/TV2.mp4: 640x384 (no detections), 7.9ms\n",
            "video 1/1 (20/194) /content/yolov5/TV2.mp4: 640x384 1 pothole, 7.7ms\n",
            "video 1/1 (21/194) /content/yolov5/TV2.mp4: 640x384 1 alligator-crack, 1 pothole, 7.7ms\n",
            "video 1/1 (22/194) /content/yolov5/TV2.mp4: 640x384 1 alligator-crack, 1 pothole, 8.0ms\n",
            "video 1/1 (23/194) /content/yolov5/TV2.mp4: 640x384 1 alligator-crack, 1 pothole, 8.6ms\n",
            "video 1/1 (24/194) /content/yolov5/TV2.mp4: 640x384 1 alligator-crack, 1 pothole, 7.9ms\n",
            "video 1/1 (25/194) /content/yolov5/TV2.mp4: 640x384 3 alligator-cracks, 1 pothole, 7.7ms\n",
            "video 1/1 (26/194) /content/yolov5/TV2.mp4: 640x384 1 alligator-crack, 1 pothole, 7.8ms\n",
            "video 1/1 (27/194) /content/yolov5/TV2.mp4: 640x384 2 alligator-cracks, 1 pothole, 8.2ms\n",
            "video 1/1 (28/194) /content/yolov5/TV2.mp4: 640x384 1 alligator-crack, 1 pothole, 8.1ms\n",
            "video 1/1 (29/194) /content/yolov5/TV2.mp4: 640x384 1 alligator-crack, 1 pothole, 8.0ms\n",
            "video 1/1 (30/194) /content/yolov5/TV2.mp4: 640x384 2 alligator-cracks, 1 pothole, 7.7ms\n",
            "video 1/1 (31/194) /content/yolov5/TV2.mp4: 640x384 1 alligator-crack, 1 pothole, 7.7ms\n",
            "video 1/1 (32/194) /content/yolov5/TV2.mp4: 640x384 3 alligator-cracks, 1 pothole, 8.0ms\n",
            "video 1/1 (33/194) /content/yolov5/TV2.mp4: 640x384 3 alligator-cracks, 1 pothole, 7.7ms\n",
            "video 1/1 (34/194) /content/yolov5/TV2.mp4: 640x384 3 alligator-cracks, 1 pothole, 8.2ms\n",
            "video 1/1 (35/194) /content/yolov5/TV2.mp4: 640x384 1 alligator-crack, 1 pothole, 7.8ms\n",
            "video 1/1 (36/194) /content/yolov5/TV2.mp4: 640x384 1 alligator-crack, 1 pothole, 7.7ms\n",
            "video 1/1 (37/194) /content/yolov5/TV2.mp4: 640x384 1 alligator-crack, 2 potholes, 8.8ms\n",
            "video 1/1 (38/194) /content/yolov5/TV2.mp4: 640x384 1 alligator-crack, 1 pothole, 9.5ms\n",
            "video 1/1 (39/194) /content/yolov5/TV2.mp4: 640x384 1 alligator-crack, 1 pothole, 8.6ms\n",
            "video 1/1 (40/194) /content/yolov5/TV2.mp4: 640x384 1 alligator-crack, 1 pothole, 8.9ms\n",
            "video 1/1 (41/194) /content/yolov5/TV2.mp4: 640x384 2 alligator-cracks, 1 pothole, 7.7ms\n",
            "video 1/1 (42/194) /content/yolov5/TV2.mp4: 640x384 1 alligator-crack, 2 potholes, 15.8ms\n",
            "video 1/1 (43/194) /content/yolov5/TV2.mp4: 640x384 2 alligator-cracks, 2 potholes, 8.0ms\n",
            "video 1/1 (44/194) /content/yolov5/TV2.mp4: 640x384 1 alligator-crack, 2 potholes, 11.5ms\n",
            "video 1/1 (45/194) /content/yolov5/TV2.mp4: 640x384 1 alligator-crack, 2 potholes, 12.2ms\n",
            "video 1/1 (46/194) /content/yolov5/TV2.mp4: 640x384 1 alligator-crack, 2 potholes, 7.9ms\n",
            "video 1/1 (47/194) /content/yolov5/TV2.mp4: 640x384 1 alligator-crack, 3 potholes, 13.1ms\n",
            "video 1/1 (48/194) /content/yolov5/TV2.mp4: 640x384 1 alligator-crack, 3 potholes, 7.7ms\n",
            "video 1/1 (49/194) /content/yolov5/TV2.mp4: 640x384 1 alligator-crack, 2 potholes, 20.9ms\n",
            "video 1/1 (50/194) /content/yolov5/TV2.mp4: 640x384 2 alligator-cracks, 2 potholes, 14.6ms\n",
            "video 1/1 (51/194) /content/yolov5/TV2.mp4: 640x384 1 alligator-crack, 3 potholes, 14.8ms\n",
            "video 1/1 (52/194) /content/yolov5/TV2.mp4: 640x384 2 alligator-cracks, 2 potholes, 14.9ms\n",
            "video 1/1 (53/194) /content/yolov5/TV2.mp4: 640x384 1 alligator-crack, 2 potholes, 16.9ms\n",
            "video 1/1 (54/194) /content/yolov5/TV2.mp4: 640x384 2 alligator-cracks, 2 potholes, 12.5ms\n",
            "video 1/1 (55/194) /content/yolov5/TV2.mp4: 640x384 2 alligator-cracks, 2 potholes, 10.5ms\n",
            "video 1/1 (56/194) /content/yolov5/TV2.mp4: 640x384 2 alligator-cracks, 2 potholes, 7.7ms\n",
            "video 1/1 (57/194) /content/yolov5/TV2.mp4: 640x384 2 alligator-cracks, 2 potholes, 10.4ms\n",
            "video 1/1 (58/194) /content/yolov5/TV2.mp4: 640x384 2 alligator-cracks, 2 potholes, 7.8ms\n",
            "video 1/1 (59/194) /content/yolov5/TV2.mp4: 640x384 2 alligator-cracks, 2 potholes, 7.7ms\n",
            "video 1/1 (60/194) /content/yolov5/TV2.mp4: 640x384 2 alligator-cracks, 2 potholes, 8.3ms\n",
            "video 1/1 (61/194) /content/yolov5/TV2.mp4: 640x384 2 alligator-cracks, 2 potholes, 11.8ms\n",
            "video 1/1 (62/194) /content/yolov5/TV2.mp4: 640x384 2 alligator-cracks, 2 potholes, 13.8ms\n",
            "video 1/1 (63/194) /content/yolov5/TV2.mp4: 640x384 2 alligator-cracks, 2 potholes, 10.1ms\n",
            "video 1/1 (64/194) /content/yolov5/TV2.mp4: 640x384 2 alligator-cracks, 2 potholes, 10.9ms\n",
            "video 1/1 (65/194) /content/yolov5/TV2.mp4: 640x384 2 alligator-cracks, 2 potholes, 24.5ms\n",
            "video 1/1 (66/194) /content/yolov5/TV2.mp4: 640x384 2 alligator-cracks, 2 potholes, 11.2ms\n",
            "video 1/1 (67/194) /content/yolov5/TV2.mp4: 640x384 2 alligator-cracks, 2 potholes, 7.7ms\n",
            "video 1/1 (68/194) /content/yolov5/TV2.mp4: 640x384 2 alligator-cracks, 2 potholes, 7.7ms\n",
            "video 1/1 (69/194) /content/yolov5/TV2.mp4: 640x384 2 alligator-cracks, 2 potholes, 7.7ms\n",
            "video 1/1 (70/194) /content/yolov5/TV2.mp4: 640x384 2 alligator-cracks, 2 potholes, 7.8ms\n",
            "video 1/1 (71/194) /content/yolov5/TV2.mp4: 640x384 2 alligator-cracks, 2 potholes, 13.6ms\n",
            "video 1/1 (72/194) /content/yolov5/TV2.mp4: 640x384 2 alligator-cracks, 2 potholes, 9.4ms\n",
            "video 1/1 (73/194) /content/yolov5/TV2.mp4: 640x384 2 alligator-cracks, 2 potholes, 7.8ms\n",
            "video 1/1 (74/194) /content/yolov5/TV2.mp4: 640x384 2 alligator-cracks, 2 potholes, 7.9ms\n",
            "video 1/1 (75/194) /content/yolov5/TV2.mp4: 640x384 2 alligator-cracks, 3 potholes, 7.9ms\n",
            "video 1/1 (76/194) /content/yolov5/TV2.mp4: 640x384 2 alligator-cracks, 2 potholes, 7.7ms\n",
            "video 1/1 (77/194) /content/yolov5/TV2.mp4: 640x384 2 alligator-cracks, 2 potholes, 7.8ms\n",
            "video 1/1 (78/194) /content/yolov5/TV2.mp4: 640x384 2 alligator-cracks, 2 potholes, 7.7ms\n",
            "video 1/1 (79/194) /content/yolov5/TV2.mp4: 640x384 2 alligator-cracks, 2 potholes, 7.7ms\n",
            "video 1/1 (80/194) /content/yolov5/TV2.mp4: 640x384 2 alligator-cracks, 2 potholes, 9.8ms\n",
            "video 1/1 (81/194) /content/yolov5/TV2.mp4: 640x384 2 alligator-cracks, 2 potholes, 8.2ms\n",
            "video 1/1 (82/194) /content/yolov5/TV2.mp4: 640x384 2 alligator-cracks, 2 potholes, 8.8ms\n",
            "video 1/1 (83/194) /content/yolov5/TV2.mp4: 640x384 2 alligator-cracks, 3 potholes, 7.9ms\n",
            "video 1/1 (84/194) /content/yolov5/TV2.mp4: 640x384 2 alligator-cracks, 1 pothole, 8.1ms\n",
            "video 1/1 (85/194) /content/yolov5/TV2.mp4: 640x384 1 alligator-crack, 1 pothole, 7.7ms\n",
            "video 1/1 (86/194) /content/yolov5/TV2.mp4: 640x384 1 alligator-crack, 2 potholes, 7.8ms\n",
            "video 1/1 (87/194) /content/yolov5/TV2.mp4: 640x384 2 alligator-cracks, 2 potholes, 8.0ms\n",
            "video 1/1 (88/194) /content/yolov5/TV2.mp4: 640x384 1 alligator-crack, 2 potholes, 8.0ms\n",
            "video 1/1 (89/194) /content/yolov5/TV2.mp4: 640x384 2 alligator-cracks, 2 potholes, 8.2ms\n",
            "video 1/1 (90/194) /content/yolov5/TV2.mp4: 640x384 2 potholes, 7.7ms\n",
            "video 1/1 (91/194) /content/yolov5/TV2.mp4: 640x384 2 potholes, 8.3ms\n",
            "video 1/1 (92/194) /content/yolov5/TV2.mp4: 640x384 2 alligator-cracks, 1 pothole, 8.0ms\n",
            "video 1/1 (93/194) /content/yolov5/TV2.mp4: 640x384 1 alligator-crack, 1 pothole, 7.8ms\n",
            "video 1/1 (94/194) /content/yolov5/TV2.mp4: 640x384 1 pothole, 7.8ms\n",
            "video 1/1 (95/194) /content/yolov5/TV2.mp4: 640x384 1 alligator-crack, 1 pothole, 8.2ms\n",
            "video 1/1 (96/194) /content/yolov5/TV2.mp4: 640x384 1 alligator-crack, 1 pothole, 8.1ms\n",
            "video 1/1 (97/194) /content/yolov5/TV2.mp4: 640x384 1 alligator-crack, 1 pothole, 7.7ms\n",
            "video 1/1 (98/194) /content/yolov5/TV2.mp4: 640x384 1 alligator-crack, 1 pothole, 7.7ms\n",
            "video 1/1 (99/194) /content/yolov5/TV2.mp4: 640x384 1 alligator-crack, 1 pothole, 8.0ms\n",
            "video 1/1 (100/194) /content/yolov5/TV2.mp4: 640x384 1 alligator-crack, 1 pothole, 8.7ms\n",
            "video 1/1 (101/194) /content/yolov5/TV2.mp4: 640x384 2 alligator-cracks, 1 pothole, 8.2ms\n",
            "video 1/1 (102/194) /content/yolov5/TV2.mp4: 640x384 1 alligator-crack, 1 pothole, 8.1ms\n",
            "video 1/1 (103/194) /content/yolov5/TV2.mp4: 640x384 1 alligator-crack, 1 pothole, 8.3ms\n",
            "video 1/1 (104/194) /content/yolov5/TV2.mp4: 640x384 2 alligator-cracks, 2 potholes, 7.7ms\n",
            "video 1/1 (105/194) /content/yolov5/TV2.mp4: 640x384 2 alligator-cracks, 1 pothole, 7.7ms\n",
            "video 1/1 (106/194) /content/yolov5/TV2.mp4: 640x384 2 alligator-cracks, 1 pothole, 7.7ms\n",
            "video 1/1 (107/194) /content/yolov5/TV2.mp4: 640x384 4 alligator-cracks, 1 pothole, 7.7ms\n",
            "video 1/1 (108/194) /content/yolov5/TV2.mp4: 640x384 2 alligator-cracks, 2 potholes, 9.0ms\n",
            "video 1/1 (109/194) /content/yolov5/TV2.mp4: 640x384 3 alligator-cracks, 1 pothole, 7.8ms\n",
            "video 1/1 (110/194) /content/yolov5/TV2.mp4: 640x384 2 alligator-cracks, 1 pothole, 7.8ms\n",
            "video 1/1 (111/194) /content/yolov5/TV2.mp4: 640x384 2 alligator-cracks, 1 pothole, 8.0ms\n",
            "video 1/1 (112/194) /content/yolov5/TV2.mp4: 640x384 1 alligator-crack, 1 pothole, 7.7ms\n",
            "video 1/1 (113/194) /content/yolov5/TV2.mp4: 640x384 2 alligator-cracks, 1 pothole, 7.7ms\n",
            "video 1/1 (114/194) /content/yolov5/TV2.mp4: 640x384 2 alligator-cracks, 1 pothole, 7.9ms\n",
            "video 1/1 (115/194) /content/yolov5/TV2.mp4: 640x384 1 alligator-crack, 1 pothole, 7.9ms\n",
            "video 1/1 (116/194) /content/yolov5/TV2.mp4: 640x384 2 alligator-cracks, 2 potholes, 8.4ms\n",
            "video 1/1 (117/194) /content/yolov5/TV2.mp4: 640x384 2 alligator-cracks, 1 pothole, 8.3ms\n",
            "video 1/1 (118/194) /content/yolov5/TV2.mp4: 640x384 1 alligator-crack, 2 potholes, 7.7ms\n",
            "video 1/1 (119/194) /content/yolov5/TV2.mp4: 640x384 3 alligator-cracks, 1 pothole, 8.1ms\n",
            "video 1/1 (120/194) /content/yolov5/TV2.mp4: 640x384 1 alligator-crack, 2 potholes, 7.7ms\n",
            "video 1/1 (121/194) /content/yolov5/TV2.mp4: 640x384 1 alligator-crack, 1 pothole, 7.7ms\n",
            "video 1/1 (122/194) /content/yolov5/TV2.mp4: 640x384 1 alligator-crack, 1 pothole, 7.7ms\n",
            "video 1/1 (123/194) /content/yolov5/TV2.mp4: 640x384 2 alligator-cracks, 1 pothole, 8.1ms\n",
            "video 1/1 (124/194) /content/yolov5/TV2.mp4: 640x384 1 alligator-crack, 1 pothole, 7.8ms\n",
            "video 1/1 (125/194) /content/yolov5/TV2.mp4: 640x384 1 alligator-crack, 1 pothole, 8.1ms\n",
            "video 1/1 (126/194) /content/yolov5/TV2.mp4: 640x384 1 alligator-crack, 1 pothole, 7.7ms\n",
            "video 1/1 (127/194) /content/yolov5/TV2.mp4: 640x384 2 alligator-cracks, 1 pothole, 7.7ms\n",
            "video 1/1 (128/194) /content/yolov5/TV2.mp4: 640x384 1 alligator-crack, 1 pothole, 7.7ms\n",
            "video 1/1 (129/194) /content/yolov5/TV2.mp4: 640x384 1 alligator-crack, 1 pothole, 7.8ms\n",
            "video 1/1 (130/194) /content/yolov5/TV2.mp4: 640x384 2 alligator-cracks, 1 pothole, 8.4ms\n",
            "video 1/1 (131/194) /content/yolov5/TV2.mp4: 640x384 1 alligator-crack, 1 pothole, 7.9ms\n",
            "video 1/1 (132/194) /content/yolov5/TV2.mp4: 640x384 2 alligator-cracks, 1 pothole, 8.2ms\n",
            "video 1/1 (133/194) /content/yolov5/TV2.mp4: 640x384 2 alligator-cracks, 1 pothole, 8.1ms\n",
            "video 1/1 (134/194) /content/yolov5/TV2.mp4: 640x384 2 alligator-cracks, 1 pothole, 8.1ms\n",
            "video 1/1 (135/194) /content/yolov5/TV2.mp4: 640x384 2 alligator-cracks, 1 pothole, 8.0ms\n",
            "video 1/1 (136/194) /content/yolov5/TV2.mp4: 640x384 2 alligator-cracks, 1 pothole, 7.7ms\n",
            "video 1/1 (137/194) /content/yolov5/TV2.mp4: 640x384 2 alligator-cracks, 1 pothole, 7.9ms\n",
            "video 1/1 (138/194) /content/yolov5/TV2.mp4: 640x384 2 alligator-cracks, 1 pothole, 16.5ms\n",
            "video 1/1 (139/194) /content/yolov5/TV2.mp4: 640x384 2 alligator-cracks, 2 potholes, 7.8ms\n",
            "video 1/1 (140/194) /content/yolov5/TV2.mp4: 640x384 2 alligator-cracks, 1 pothole, 7.7ms\n",
            "video 1/1 (141/194) /content/yolov5/TV2.mp4: 640x384 1 alligator-crack, 1 pothole, 7.7ms\n",
            "video 1/1 (142/194) /content/yolov5/TV2.mp4: 640x384 1 pothole, 8.1ms\n",
            "video 1/1 (143/194) /content/yolov5/TV2.mp4: 640x384 1 pothole, 7.7ms\n",
            "video 1/1 (144/194) /content/yolov5/TV2.mp4: 640x384 1 alligator-crack, 1 pothole, 7.8ms\n",
            "video 1/1 (145/194) /content/yolov5/TV2.mp4: 640x384 1 alligator-crack, 1 pothole, 8.7ms\n",
            "video 1/1 (146/194) /content/yolov5/TV2.mp4: 640x384 1 alligator-crack, 1 pothole, 8.2ms\n",
            "video 1/1 (147/194) /content/yolov5/TV2.mp4: 640x384 1 pothole, 7.9ms\n",
            "video 1/1 (148/194) /content/yolov5/TV2.mp4: 640x384 1 alligator-crack, 1 pothole, 7.7ms\n",
            "video 1/1 (149/194) /content/yolov5/TV2.mp4: 640x384 1 crack, 1 pothole, 7.8ms\n",
            "video 1/1 (150/194) /content/yolov5/TV2.mp4: 640x384 1 pothole, 7.7ms\n",
            "video 1/1 (151/194) /content/yolov5/TV2.mp4: 640x384 1 alligator-crack, 1 pothole, 7.9ms\n",
            "video 1/1 (152/194) /content/yolov5/TV2.mp4: 640x384 1 alligator-crack, 1 pothole, 7.9ms\n",
            "video 1/1 (153/194) /content/yolov5/TV2.mp4: 640x384 1 alligator-crack, 1 pothole, 7.7ms\n",
            "video 1/1 (154/194) /content/yolov5/TV2.mp4: 640x384 1 alligator-crack, 1 pothole, 9.9ms\n",
            "video 1/1 (155/194) /content/yolov5/TV2.mp4: 640x384 1 alligator-crack, 1 pothole, 7.7ms\n",
            "video 1/1 (156/194) /content/yolov5/TV2.mp4: 640x384 1 alligator-crack, 1 pothole, 7.7ms\n",
            "video 1/1 (157/194) /content/yolov5/TV2.mp4: 640x384 1 alligator-crack, 1 pothole, 7.8ms\n",
            "video 1/1 (158/194) /content/yolov5/TV2.mp4: 640x384 1 alligator-crack, 1 pothole, 8.0ms\n",
            "video 1/1 (159/194) /content/yolov5/TV2.mp4: 640x384 1 alligator-crack, 1 pothole, 8.0ms\n",
            "video 1/1 (160/194) /content/yolov5/TV2.mp4: 640x384 1 alligator-crack, 1 pothole, 8.2ms\n",
            "video 1/1 (161/194) /content/yolov5/TV2.mp4: 640x384 1 alligator-crack, 2 potholes, 7.8ms\n",
            "video 1/1 (162/194) /content/yolov5/TV2.mp4: 640x384 1 alligator-crack, 1 pothole, 8.7ms\n",
            "video 1/1 (163/194) /content/yolov5/TV2.mp4: 640x384 3 potholes, 7.7ms\n",
            "video 1/1 (164/194) /content/yolov5/TV2.mp4: 640x384 1 alligator-crack, 2 potholes, 7.8ms\n",
            "video 1/1 (165/194) /content/yolov5/TV2.mp4: 640x384 1 alligator-crack, 1 pothole, 10.5ms\n",
            "video 1/1 (166/194) /content/yolov5/TV2.mp4: 640x384 1 alligator-crack, 1 pothole, 7.8ms\n",
            "video 1/1 (167/194) /content/yolov5/TV2.mp4: 640x384 1 pothole, 7.8ms\n",
            "video 1/1 (168/194) /content/yolov5/TV2.mp4: 640x384 1 alligator-crack, 1 pothole, 8.9ms\n",
            "video 1/1 (169/194) /content/yolov5/TV2.mp4: 640x384 1 alligator-crack, 1 crack, 1 pothole, 7.9ms\n",
            "video 1/1 (170/194) /content/yolov5/TV2.mp4: 640x384 1 alligator-crack, 1 pothole, 7.7ms\n",
            "video 1/1 (171/194) /content/yolov5/TV2.mp4: 640x384 1 alligator-crack, 1 crack, 1 pothole, 7.7ms\n",
            "video 1/1 (172/194) /content/yolov5/TV2.mp4: 640x384 1 alligator-crack, 1 pothole, 7.9ms\n",
            "video 1/1 (173/194) /content/yolov5/TV2.mp4: 640x384 1 alligator-crack, 1 pothole, 7.7ms\n",
            "video 1/1 (174/194) /content/yolov5/TV2.mp4: 640x384 1 alligator-crack, 1 pothole, 7.7ms\n",
            "video 1/1 (175/194) /content/yolov5/TV2.mp4: 640x384 1 alligator-crack, 1 pothole, 7.7ms\n",
            "video 1/1 (176/194) /content/yolov5/TV2.mp4: 640x384 1 alligator-crack, 1 pothole, 7.7ms\n",
            "video 1/1 (177/194) /content/yolov5/TV2.mp4: 640x384 1 alligator-crack, 1 pothole, 7.7ms\n",
            "video 1/1 (178/194) /content/yolov5/TV2.mp4: 640x384 1 alligator-crack, 2 potholes, 7.7ms\n",
            "video 1/1 (179/194) /content/yolov5/TV2.mp4: 640x384 1 alligator-crack, 1 pothole, 7.8ms\n",
            "video 1/1 (180/194) /content/yolov5/TV2.mp4: 640x384 1 alligator-crack, 2 potholes, 7.7ms\n",
            "video 1/1 (181/194) /content/yolov5/TV2.mp4: 640x384 1 alligator-crack, 1 pothole, 7.8ms\n",
            "video 1/1 (182/194) /content/yolov5/TV2.mp4: 640x384 1 alligator-crack, 2 potholes, 7.7ms\n",
            "video 1/1 (183/194) /content/yolov5/TV2.mp4: 640x384 1 alligator-crack, 1 pothole, 8.1ms\n",
            "video 1/1 (184/194) /content/yolov5/TV2.mp4: 640x384 1 pothole, 7.7ms\n",
            "video 1/1 (185/194) /content/yolov5/TV2.mp4: 640x384 1 alligator-crack, 1 pothole, 7.7ms\n",
            "video 1/1 (186/194) /content/yolov5/TV2.mp4: 640x384 1 alligator-crack, 1 pothole, 8.8ms\n",
            "video 1/1 (187/194) /content/yolov5/TV2.mp4: 640x384 1 alligator-crack, 1 pothole, 7.8ms\n",
            "video 1/1 (188/194) /content/yolov5/TV2.mp4: 640x384 1 alligator-crack, 1 pothole, 7.8ms\n",
            "video 1/1 (189/194) /content/yolov5/TV2.mp4: 640x384 1 alligator-crack, 1 pothole, 8.4ms\n",
            "video 1/1 (190/194) /content/yolov5/TV2.mp4: 640x384 1 alligator-crack, 1 pothole, 8.0ms\n",
            "video 1/1 (191/194) /content/yolov5/TV2.mp4: 640x384 1 alligator-crack, 1 pothole, 8.0ms\n",
            "video 1/1 (192/194) /content/yolov5/TV2.mp4: 640x384 1 pothole, 7.7ms\n",
            "video 1/1 (193/194) /content/yolov5/TV2.mp4: 640x384 1 pothole, 7.8ms\n",
            "video 1/1 (194/194) /content/yolov5/TV2.mp4: 640x384 1 alligator-crack, 1 pothole, 7.7ms\n",
            "Speed: 0.6ms pre-process, 8.8ms inference, 1.8ms NMS per image at shape (1, 3, 640, 640)\n",
            "Results saved to \u001b[1mruns/detect/exp10\u001b[0m\n"
          ]
        }
      ],
      "source": [
        "!python detect.py --weights runs/train/exp4/weights/best.pt --source TV2.mp4"
      ]
    },
    {
      "cell_type": "markdown",
      "metadata": {
        "id": "1piXkPXTM1WN"
      },
      "source": [
        "YOLOv8 TIME!!!!!!!\n"
      ]
    },
    {
      "cell_type": "code",
      "execution_count": null,
      "metadata": {
        "colab": {
          "base_uri": "https://localhost:8080/"
        },
        "id": "Nipm0HjyM40d",
        "outputId": "e32816eb-533c-403c-c5b2-8be1fa3d0f3b"
      },
      "outputs": [
        {
          "name": "stdout",
          "output_type": "stream",
          "text": [
            "Looking in indexes: https://pypi.org/simple, https://us-python.pkg.dev/colab-wheels/public/simple/\n",
            "Collecting ultralytics\n",
            "  Downloading ultralytics-8.0.92-py3-none-any.whl (562 kB)\n",
            "\u001b[2K     \u001b[90m━━━━━━━━━━━━━━━━━━━━━━━━━━━━━━━━━━━━━━\u001b[0m \u001b[32m562.1/562.1 kB\u001b[0m \u001b[31m15.7 MB/s\u001b[0m eta \u001b[36m0:00:00\u001b[0m\n",
            "\u001b[?25hRequirement already satisfied: torch>=1.7.0 in /usr/local/lib/python3.9/dist-packages (from ultralytics) (2.0.0+cu118)\n",
            "Requirement already satisfied: Pillow>=7.1.2 in /usr/local/lib/python3.9/dist-packages (from ultralytics) (8.4.0)\n",
            "Requirement already satisfied: torchvision>=0.8.1 in /usr/local/lib/python3.9/dist-packages (from ultralytics) (0.15.1+cu118)\n",
            "Requirement already satisfied: matplotlib>=3.2.2 in /usr/local/lib/python3.9/dist-packages (from ultralytics) (3.6.3)\n",
            "Collecting sentry-sdk\n",
            "  Downloading sentry_sdk-1.21.1-py2.py3-none-any.whl (201 kB)\n",
            "\u001b[2K     \u001b[90m━━━━━━━━━━━━━━━━━━━━━━━━━━━━━━━━━━━━━━\u001b[0m \u001b[32m201.7/201.7 kB\u001b[0m \u001b[31m27.9 MB/s\u001b[0m eta \u001b[36m0:00:00\u001b[0m\n",
            "\u001b[?25hRequirement already satisfied: scipy>=1.4.1 in /usr/local/lib/python3.9/dist-packages (from ultralytics) (1.10.1)\n",
            "Requirement already satisfied: opencv-python>=4.6.0 in /usr/local/lib/python3.9/dist-packages (from ultralytics) (4.7.0.72)\n",
            "Requirement already satisfied: requests>=2.23.0 in /usr/local/lib/python3.9/dist-packages (from ultralytics) (2.27.1)\n",
            "Requirement already satisfied: tqdm>=4.64.0 in /usr/local/lib/python3.9/dist-packages (from ultralytics) (4.65.0)\n",
            "Requirement already satisfied: psutil in /usr/local/lib/python3.9/dist-packages (from ultralytics) (5.9.4)\n",
            "Requirement already satisfied: thop>=0.1.1 in /usr/local/lib/python3.9/dist-packages (from ultralytics) (0.1.1.post2209072238)\n",
            "Requirement already satisfied: seaborn>=0.11.0 in /usr/local/lib/python3.9/dist-packages (from ultralytics) (0.12.2)\n",
            "Requirement already satisfied: PyYAML>=5.3.1 in /usr/local/lib/python3.9/dist-packages (from ultralytics) (6.0)\n",
            "Requirement already satisfied: pandas>=1.1.4 in /usr/local/lib/python3.9/dist-packages (from ultralytics) (1.4.4)\n",
            "Requirement already satisfied: numpy>=1.19 in /usr/local/lib/python3.9/dist-packages (from matplotlib>=3.2.2->ultralytics) (1.19.5)\n",
            "Requirement already satisfied: pyparsing>=2.2.1 in /usr/local/lib/python3.9/dist-packages (from matplotlib>=3.2.2->ultralytics) (2.4.7)\n",
            "Requirement already satisfied: contourpy>=1.0.1 in /usr/local/lib/python3.9/dist-packages (from matplotlib>=3.2.2->ultralytics) (1.0.7)\n",
            "Requirement already satisfied: packaging>=20.0 in /usr/local/lib/python3.9/dist-packages (from matplotlib>=3.2.2->ultralytics) (23.0)\n",
            "Requirement already satisfied: fonttools>=4.22.0 in /usr/local/lib/python3.9/dist-packages (from matplotlib>=3.2.2->ultralytics) (4.39.3)\n",
            "Requirement already satisfied: python-dateutil>=2.7 in /usr/local/lib/python3.9/dist-packages (from matplotlib>=3.2.2->ultralytics) (2.8.2)\n",
            "Requirement already satisfied: kiwisolver>=1.0.1 in /usr/local/lib/python3.9/dist-packages (from matplotlib>=3.2.2->ultralytics) (1.4.4)\n",
            "Requirement already satisfied: cycler>=0.10 in /usr/local/lib/python3.9/dist-packages (from matplotlib>=3.2.2->ultralytics) (0.10.0)\n",
            "Requirement already satisfied: pytz>=2020.1 in /usr/local/lib/python3.9/dist-packages (from pandas>=1.1.4->ultralytics) (2022.7.1)\n",
            "Requirement already satisfied: certifi>=2017.4.17 in /usr/local/lib/python3.9/dist-packages (from requests>=2.23.0->ultralytics) (2022.12.7)\n",
            "Requirement already satisfied: idna<4,>=2.5 in /usr/local/lib/python3.9/dist-packages (from requests>=2.23.0->ultralytics) (2.10)\n",
            "Requirement already satisfied: charset-normalizer~=2.0.0 in /usr/local/lib/python3.9/dist-packages (from requests>=2.23.0->ultralytics) (2.0.12)\n",
            "Requirement already satisfied: urllib3<1.27,>=1.21.1 in /usr/local/lib/python3.9/dist-packages (from requests>=2.23.0->ultralytics) (1.26.15)\n",
            "Requirement already satisfied: sympy in /usr/local/lib/python3.9/dist-packages (from torch>=1.7.0->ultralytics) (1.11.1)\n",
            "Requirement already satisfied: jinja2 in /usr/local/lib/python3.9/dist-packages (from torch>=1.7.0->ultralytics) (3.1.2)\n",
            "Requirement already satisfied: networkx in /usr/local/lib/python3.9/dist-packages (from torch>=1.7.0->ultralytics) (3.0)\n",
            "Requirement already satisfied: typing-extensions in /usr/local/lib/python3.9/dist-packages (from torch>=1.7.0->ultralytics) (3.7.4.3)\n",
            "Requirement already satisfied: filelock in /usr/local/lib/python3.9/dist-packages (from torch>=1.7.0->ultralytics) (3.10.7)\n",
            "Requirement already satisfied: triton==2.0.0 in /usr/local/lib/python3.9/dist-packages (from torch>=1.7.0->ultralytics) (2.0.0)\n",
            "Requirement already satisfied: lit in /usr/local/lib/python3.9/dist-packages (from triton==2.0.0->torch>=1.7.0->ultralytics) (16.0.0)\n",
            "Requirement already satisfied: cmake in /usr/local/lib/python3.9/dist-packages (from triton==2.0.0->torch>=1.7.0->ultralytics) (3.25.2)\n",
            "Requirement already satisfied: six in /usr/local/lib/python3.9/dist-packages (from cycler>=0.10->matplotlib>=3.2.2->ultralytics) (1.15.0)\n",
            "Requirement already satisfied: MarkupSafe>=2.0 in /usr/local/lib/python3.9/dist-packages (from jinja2->torch>=1.7.0->ultralytics) (2.1.2)\n",
            "Requirement already satisfied: mpmath>=0.19 in /usr/local/lib/python3.9/dist-packages (from sympy->torch>=1.7.0->ultralytics) (1.3.0)\n",
            "Installing collected packages: sentry-sdk, ultralytics\n",
            "Successfully installed sentry-sdk-1.21.1 ultralytics-8.0.92\n"
          ]
        }
      ],
      "source": [
        "!pip install ultralytics"
      ]
    },
    {
      "cell_type": "code",
      "execution_count": null,
      "metadata": {
        "id": "6zaIocLPOTnm"
      },
      "outputs": [],
      "source": [
        "%cd ../content"
      ]
    },
    {
      "cell_type": "code",
      "execution_count": null,
      "metadata": {
        "colab": {
          "base_uri": "https://localhost:8080/"
        },
        "id": "E9eb2tavNUWg",
        "outputId": "22c9dd88-f33a-4f08-8589-cfed818f4f19"
      },
      "outputs": [
        {
          "name": "stdout",
          "output_type": "stream",
          "text": [
            "--2023-05-05 04:43:59--  https://www.dropbox.com/s/qvglw8pqo16769f/pothole_dataset_v8.zip?dl=1\n",
            "Resolving www.dropbox.com (www.dropbox.com)... 162.125.1.18, 2620:100:6016:18::a27d:112\n",
            "Connecting to www.dropbox.com (www.dropbox.com)|162.125.1.18|:443... connected.\n",
            "HTTP request sent, awaiting response... 302 Found\n",
            "Location: /s/dl/qvglw8pqo16769f/pothole_dataset_v8.zip [following]\n",
            "--2023-05-05 04:43:59--  https://www.dropbox.com/s/dl/qvglw8pqo16769f/pothole_dataset_v8.zip\n",
            "Reusing existing connection to www.dropbox.com:443.\n",
            "HTTP request sent, awaiting response... 302 Found\n",
            "Location: https://uc0122087ae11a1961c8f148528a.dl.dropboxusercontent.com/cd/0/get/B7ensNBqIo-FUNQQyeZlOw-_5gy2e37alWhGsqQ13ezHWzU2idPt0SZLWY-G9o57OkXk9c0OIHE09RJaJV2CCAYsu4QgSYtpJ_ohU8pPcRMVtepBzoQpi4ctVD9Skr3yTTGGjxZmABGwMoqxe8O9yIAzI3eKZpZqViXcAbOqN61eUX-8Gw5-4ae2pdMJBEIC1Tk/file?dl=1# [following]\n",
            "--2023-05-05 04:43:59--  https://uc0122087ae11a1961c8f148528a.dl.dropboxusercontent.com/cd/0/get/B7ensNBqIo-FUNQQyeZlOw-_5gy2e37alWhGsqQ13ezHWzU2idPt0SZLWY-G9o57OkXk9c0OIHE09RJaJV2CCAYsu4QgSYtpJ_ohU8pPcRMVtepBzoQpi4ctVD9Skr3yTTGGjxZmABGwMoqxe8O9yIAzI3eKZpZqViXcAbOqN61eUX-8Gw5-4ae2pdMJBEIC1Tk/file?dl=1\n",
            "Resolving uc0122087ae11a1961c8f148528a.dl.dropboxusercontent.com (uc0122087ae11a1961c8f148528a.dl.dropboxusercontent.com)... 162.125.1.15, 2620:100:6016:15::a27d:10f\n",
            "Connecting to uc0122087ae11a1961c8f148528a.dl.dropboxusercontent.com (uc0122087ae11a1961c8f148528a.dl.dropboxusercontent.com)|162.125.1.15|:443... connected.\n",
            "HTTP request sent, awaiting response... 200 OK\n",
            "Length: 2629111059 (2.4G) [application/binary]\n",
            "Saving to: ‘pothole_dataset_v8.zip’\n",
            "\n",
            "pothole_dataset_v8. 100%[===================>]   2.45G   190MB/s    in 15s     \n",
            "\n",
            "2023-05-05 04:44:14 (171 MB/s) - ‘pothole_dataset_v8.zip’ saved [2629111059/2629111059]\n",
            "\n"
          ]
        }
      ],
      "source": [
        "!wget https://www.dropbox.com/s/qvglw8pqo16769f/pothole_dataset_v8.zip?dl=1 -O pothole_dataset_v8.zip\n"
      ]
    },
    {
      "cell_type": "code",
      "execution_count": null,
      "metadata": {
        "id": "fDdzwNIyNgRi"
      },
      "outputs": [],
      "source": [
        "!unzip pothole_dataset_v8.zip"
      ]
    },
    {
      "cell_type": "code",
      "execution_count": null,
      "metadata": {
        "colab": {
          "base_uri": "https://localhost:8080/"
        },
        "id": "6DXU2wWTPW74",
        "outputId": "d6578fc6-ad86-4bcd-bed3-321aaf123bc7"
      },
      "outputs": [
        {
          "name": "stdout",
          "output_type": "stream",
          "text": [
            "Looking in indexes: https://pypi.org/simple, https://us-python.pkg.dev/colab-wheels/public/simple/\n",
            "Collecting clearml\n",
            "  Downloading clearml-1.10.3-py2.py3-none-any.whl (1.1 MB)\n",
            "\u001b[2K     \u001b[90m━━━━━━━━━━━━━━━━━━━━━━━━━━━━━━━━━━━━━━━━\u001b[0m \u001b[32m1.1/1.1 MB\u001b[0m \u001b[31m27.5 MB/s\u001b[0m eta \u001b[36m0:00:00\u001b[0m\n",
            "\u001b[?25hRequirement already satisfied: Pillow>=4.1.1 in /usr/local/lib/python3.9/dist-packages (from clearml) (8.4.0)\n",
            "Requirement already satisfied: attrs>=18.0 in /usr/local/lib/python3.9/dist-packages (from clearml) (22.2.0)\n",
            "Requirement already satisfied: pyparsing>=2.0.3 in /usr/local/lib/python3.9/dist-packages (from clearml) (2.4.7)\n",
            "Requirement already satisfied: python-dateutil>=2.6.1 in /usr/local/lib/python3.9/dist-packages (from clearml) (2.8.2)\n",
            "Requirement already satisfied: psutil>=3.4.2 in /usr/local/lib/python3.9/dist-packages (from clearml) (5.9.4)\n",
            "Requirement already satisfied: urllib3>=1.21.1 in /usr/local/lib/python3.9/dist-packages (from clearml) (1.26.15)\n",
            "Requirement already satisfied: numpy>=1.10 in /usr/local/lib/python3.9/dist-packages (from clearml) (1.19.5)\n",
            "Requirement already satisfied: PyYAML>=3.12 in /usr/local/lib/python3.9/dist-packages (from clearml) (6.0)\n",
            "Requirement already satisfied: six>=1.13.0 in /usr/local/lib/python3.9/dist-packages (from clearml) (1.15.0)\n",
            "Requirement already satisfied: requests>=2.20.0 in /usr/local/lib/python3.9/dist-packages (from clearml) (2.27.1)\n",
            "Collecting furl>=2.0.0\n",
            "  Downloading furl-2.1.3-py2.py3-none-any.whl (20 kB)\n",
            "Requirement already satisfied: jsonschema>=2.6.0 in /usr/local/lib/python3.9/dist-packages (from clearml) (4.3.3)\n",
            "Collecting pathlib2>=2.3.0\n",
            "  Downloading pathlib2-2.3.7.post1-py2.py3-none-any.whl (18 kB)\n",
            "Collecting pyjwt<2.5.0,>=2.4.0\n",
            "  Downloading PyJWT-2.4.0-py3-none-any.whl (18 kB)\n",
            "Collecting orderedmultidict>=1.0.1\n",
            "  Downloading orderedmultidict-1.0.1-py2.py3-none-any.whl (11 kB)\n",
            "Requirement already satisfied: pyrsistent!=0.17.0,!=0.17.1,!=0.17.2,>=0.14.0 in /usr/local/lib/python3.9/dist-packages (from jsonschema>=2.6.0->clearml) (0.19.3)\n",
            "Requirement already satisfied: idna<4,>=2.5 in /usr/local/lib/python3.9/dist-packages (from requests>=2.20.0->clearml) (2.10)\n",
            "Requirement already satisfied: certifi>=2017.4.17 in /usr/local/lib/python3.9/dist-packages (from requests>=2.20.0->clearml) (2022.12.7)\n",
            "Requirement already satisfied: charset-normalizer~=2.0.0 in /usr/local/lib/python3.9/dist-packages (from requests>=2.20.0->clearml) (2.0.12)\n",
            "Installing collected packages: pyjwt, pathlib2, orderedmultidict, furl, clearml\n",
            "Successfully installed clearml-1.10.3 furl-2.1.3 orderedmultidict-1.0.1 pathlib2-2.3.7.post1 pyjwt-2.4.0\n"
          ]
        }
      ],
      "source": [
        "!pip install clearml"
      ]
    }
  ],
  "metadata": {
    "accelerator": "GPU",
    "colab": {
      "provenance": [],
      "gpuType": "T4",
      "include_colab_link": true
    },
    "kernelspec": {
      "display_name": "Python 3",
      "name": "python3"
    },
    "language_info": {
      "name": "python"
    }
  },
  "nbformat": 4,
  "nbformat_minor": 0
}